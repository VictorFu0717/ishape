{
  "nbformat": 4,
  "nbformat_minor": 0,
  "metadata": {
    "colab": {
      "name": "bodyfat回歸模型.ipynb",
      "provenance": [],
      "collapsed_sections": [],
      "include_colab_link": true
    },
    "kernelspec": {
      "name": "python3",
      "display_name": "Python 3"
    },
    "language_info": {
      "name": "python"
    },
    "accelerator": "GPU"
  },
  "cells": [
    {
      "cell_type": "markdown",
      "metadata": {
        "id": "view-in-github",
        "colab_type": "text"
      },
      "source": [
        "<a href=\"https://colab.research.google.com/github/VictorFu0717/ishape/blob/main/bodyfat%E5%9B%9E%E6%AD%B8%E6%A8%A1%E5%9E%8B.ipynb\" target=\"_parent\"><img src=\"https://colab.research.google.com/assets/colab-badge.svg\" alt=\"Open In Colab\"/></a>"
      ]
    },
    {
      "cell_type": "code",
      "metadata": {
        "id": "ok1PjGes42yx"
      },
      "source": [
        "#显示所有列\n",
        "pd.set_option('display.max_columns', None)\n",
        "#显示所有行\n",
        "pd.set_option('display.max_rows', None)\n",
        "#设置value的显示长度为100，默认为50\n",
        "pd.set_option('max_colwidth', 100)"
      ],
      "execution_count": null,
      "outputs": []
    },
    {
      "cell_type": "code",
      "metadata": {
        "colab": {
          "base_uri": "https://localhost:8080/",
          "height": 362
        },
        "id": "EeFFWfHBlQZj",
        "outputId": "60073954-dea9-45d1-a1d5-d2e067822f12"
      },
      "source": [
        "import pandas as pd\n",
        "\n",
        "df =  pd.read_csv(\"/content/body_width1.csv\", encoding=\"utf-8\")\n",
        "\n",
        "# 測試資料：真人\n",
        "filter = df[\"source\"] == \"真人\"\n",
        "tdf = df[filter]\n",
        "filter = tdf[\"gender\"] == \"m\"\n",
        "tdf = tdf[filter]\n",
        "tdf = tdf.dropna()\n",
        "\n",
        "\n",
        "tdf = tdf.drop([\"org_img\",\"bw_img\", \"source\",\"waist_width_px\", \"hip_width_px\",\"chest_width_px\",\"chest_width_cm\",\"race\",\"width_per_px\",\"gender\"], axis=1)\n",
        "tx = tdf.drop([\"waist_width_cm\",\"hip_width_cm\",\"bfp\"],axis=1)\n",
        "ty = tdf.drop([\"height\",\"weight\",\t\"waist_width_cm\",\"hip_width_cm\",\"waist\",\"hips\",\"age\",\"chest\"], axis=1)\n",
        "tx[\"bmi\"]= tx[\"weight\"]/(tx[\"height\"]*tx[\"height\"]/10000)\n",
        "\n",
        "tx"
      ],
      "execution_count": null,
      "outputs": [
        {
          "output_type": "execute_result",
          "data": {
            "text/html": [
              "<div>\n",
              "<style scoped>\n",
              "    .dataframe tbody tr th:only-of-type {\n",
              "        vertical-align: middle;\n",
              "    }\n",
              "\n",
              "    .dataframe tbody tr th {\n",
              "        vertical-align: top;\n",
              "    }\n",
              "\n",
              "    .dataframe thead th {\n",
              "        text-align: right;\n",
              "    }\n",
              "</style>\n",
              "<table border=\"1\" class=\"dataframe\">\n",
              "  <thead>\n",
              "    <tr style=\"text-align: right;\">\n",
              "      <th></th>\n",
              "      <th>age</th>\n",
              "      <th>height</th>\n",
              "      <th>weight</th>\n",
              "      <th>waist</th>\n",
              "      <th>chest</th>\n",
              "      <th>hips</th>\n",
              "      <th>bmi</th>\n",
              "    </tr>\n",
              "  </thead>\n",
              "  <tbody>\n",
              "    <tr>\n",
              "      <th>404</th>\n",
              "      <td>29.0</td>\n",
              "      <td>166.0</td>\n",
              "      <td>64.8</td>\n",
              "      <td>82.0</td>\n",
              "      <td>87.0</td>\n",
              "      <td>95.0</td>\n",
              "      <td>23.515750</td>\n",
              "    </tr>\n",
              "    <tr>\n",
              "      <th>405</th>\n",
              "      <td>24.0</td>\n",
              "      <td>165.0</td>\n",
              "      <td>48.1</td>\n",
              "      <td>68.0</td>\n",
              "      <td>76.5</td>\n",
              "      <td>84.0</td>\n",
              "      <td>17.667585</td>\n",
              "    </tr>\n",
              "    <tr>\n",
              "      <th>406</th>\n",
              "      <td>26.0</td>\n",
              "      <td>176.0</td>\n",
              "      <td>59.0</td>\n",
              "      <td>74.0</td>\n",
              "      <td>83.0</td>\n",
              "      <td>91.0</td>\n",
              "      <td>19.047004</td>\n",
              "    </tr>\n",
              "    <tr>\n",
              "      <th>407</th>\n",
              "      <td>23.0</td>\n",
              "      <td>179.0</td>\n",
              "      <td>98.7</td>\n",
              "      <td>105.0</td>\n",
              "      <td>103.0</td>\n",
              "      <td>114.0</td>\n",
              "      <td>30.804282</td>\n",
              "    </tr>\n",
              "    <tr>\n",
              "      <th>408</th>\n",
              "      <td>29.0</td>\n",
              "      <td>174.0</td>\n",
              "      <td>73.0</td>\n",
              "      <td>87.0</td>\n",
              "      <td>91.0</td>\n",
              "      <td>99.0</td>\n",
              "      <td>24.111507</td>\n",
              "    </tr>\n",
              "    <tr>\n",
              "      <th>410</th>\n",
              "      <td>29.0</td>\n",
              "      <td>172.0</td>\n",
              "      <td>72.9</td>\n",
              "      <td>87.0</td>\n",
              "      <td>95.0</td>\n",
              "      <td>99.0</td>\n",
              "      <td>24.641698</td>\n",
              "    </tr>\n",
              "    <tr>\n",
              "      <th>414</th>\n",
              "      <td>28.0</td>\n",
              "      <td>168.0</td>\n",
              "      <td>67.6</td>\n",
              "      <td>81.0</td>\n",
              "      <td>90.0</td>\n",
              "      <td>95.0</td>\n",
              "      <td>23.951247</td>\n",
              "    </tr>\n",
              "    <tr>\n",
              "      <th>417</th>\n",
              "      <td>24.0</td>\n",
              "      <td>168.0</td>\n",
              "      <td>92.7</td>\n",
              "      <td>89.0</td>\n",
              "      <td>99.5</td>\n",
              "      <td>110.0</td>\n",
              "      <td>32.844388</td>\n",
              "    </tr>\n",
              "    <tr>\n",
              "      <th>418</th>\n",
              "      <td>29.0</td>\n",
              "      <td>182.0</td>\n",
              "      <td>72.0</td>\n",
              "      <td>83.0</td>\n",
              "      <td>88.0</td>\n",
              "      <td>96.5</td>\n",
              "      <td>21.736505</td>\n",
              "    </tr>\n",
              "    <tr>\n",
              "      <th>419</th>\n",
              "      <td>24.0</td>\n",
              "      <td>161.5</td>\n",
              "      <td>50.5</td>\n",
              "      <td>66.5</td>\n",
              "      <td>77.0</td>\n",
              "      <td>88.0</td>\n",
              "      <td>19.361827</td>\n",
              "    </tr>\n",
              "  </tbody>\n",
              "</table>\n",
              "</div>"
            ],
            "text/plain": [
              "      age  height  weight  waist  chest   hips        bmi\n",
              "404  29.0   166.0    64.8   82.0   87.0   95.0  23.515750\n",
              "405  24.0   165.0    48.1   68.0   76.5   84.0  17.667585\n",
              "406  26.0   176.0    59.0   74.0   83.0   91.0  19.047004\n",
              "407  23.0   179.0    98.7  105.0  103.0  114.0  30.804282\n",
              "408  29.0   174.0    73.0   87.0   91.0   99.0  24.111507\n",
              "410  29.0   172.0    72.9   87.0   95.0   99.0  24.641698\n",
              "414  28.0   168.0    67.6   81.0   90.0   95.0  23.951247\n",
              "417  24.0   168.0    92.7   89.0   99.5  110.0  32.844388\n",
              "418  29.0   182.0    72.0   83.0   88.0   96.5  21.736505\n",
              "419  24.0   161.5    50.5   66.5   77.0   88.0  19.361827"
            ]
          },
          "metadata": {
            "tags": []
          },
          "execution_count": 1
        }
      ]
    },
    {
      "cell_type": "code",
      "metadata": {
        "id": "LF5THKcZpDNa"
      },
      "source": [
        "filter = df[\"source\"] == \"水下秤重\"\n",
        "df = df[filter]\n",
        "filter = df[\"bfp\"] > 5\n",
        "df = df[filter]"
      ],
      "execution_count": null,
      "outputs": []
    },
    {
      "cell_type": "code",
      "metadata": {
        "id": "1aAQSnP3pFDP"
      },
      "source": [
        "df = df.drop([\"org_img\",\"bw_img\", \"source\",\"waist_width_px\", \"hip_width_px\",\"chest_width_px\",\"chest_width_cm\",\"race\",\"gender\",\"width_per_px\"], axis=1)\n",
        "# delect_idx = df.loc[371:402].index.tolist()\n",
        "# df = df.drop(index=delect_idx)\n",
        "df = df.dropna()"
      ],
      "execution_count": null,
      "outputs": []
    },
    {
      "cell_type": "code",
      "metadata": {
        "colab": {
          "base_uri": "https://localhost:8080/",
          "height": 440
        },
        "id": "R9O6C_AipLDn",
        "outputId": "bcbd3f87-e4ec-46d0-d9c4-054e1d207f46"
      },
      "source": [
        "x = df.drop([\"waist_width_cm\",\"hip_width_cm\",\"bfp\"], axis=1)\n",
        "y = df.drop([\"age\",\"height\",\"weight\",\t\"waist_width_cm\",\"hip_width_cm\",\"waist\",\"hips\",\"chest\"], axis=1)\n",
        "\n",
        "x[\"bmi\"]= x[\"weight\"]/(x[\"height\"]*x[\"height\"]/10000)\n",
        "\n",
        "\n",
        "\n",
        "print(len(x),\"筆資料\")\n",
        "x"
      ],
      "execution_count": null,
      "outputs": [
        {
          "output_type": "stream",
          "text": [
            "245 筆資料\n"
          ],
          "name": "stdout"
        },
        {
          "output_type": "execute_result",
          "data": {
            "text/html": [
              "<div>\n",
              "<style scoped>\n",
              "    .dataframe tbody tr th:only-of-type {\n",
              "        vertical-align: middle;\n",
              "    }\n",
              "\n",
              "    .dataframe tbody tr th {\n",
              "        vertical-align: top;\n",
              "    }\n",
              "\n",
              "    .dataframe thead th {\n",
              "        text-align: right;\n",
              "    }\n",
              "</style>\n",
              "<table border=\"1\" class=\"dataframe\">\n",
              "  <thead>\n",
              "    <tr style=\"text-align: right;\">\n",
              "      <th></th>\n",
              "      <th>age</th>\n",
              "      <th>height</th>\n",
              "      <th>weight</th>\n",
              "      <th>waist</th>\n",
              "      <th>chest</th>\n",
              "      <th>hips</th>\n",
              "      <th>bmi</th>\n",
              "    </tr>\n",
              "  </thead>\n",
              "  <tbody>\n",
              "    <tr>\n",
              "      <th>1</th>\n",
              "      <td>23.0</td>\n",
              "      <td>172.1</td>\n",
              "      <td>70.0</td>\n",
              "      <td>85.2</td>\n",
              "      <td>93.1</td>\n",
              "      <td>94.5</td>\n",
              "      <td>23.633949</td>\n",
              "    </tr>\n",
              "    <tr>\n",
              "      <th>2</th>\n",
              "      <td>22.0</td>\n",
              "      <td>183.5</td>\n",
              "      <td>78.6</td>\n",
              "      <td>83.0</td>\n",
              "      <td>93.6</td>\n",
              "      <td>98.7</td>\n",
              "      <td>23.342663</td>\n",
              "    </tr>\n",
              "    <tr>\n",
              "      <th>3</th>\n",
              "      <td>22.0</td>\n",
              "      <td>168.3</td>\n",
              "      <td>69.9</td>\n",
              "      <td>87.9</td>\n",
              "      <td>95.8</td>\n",
              "      <td>99.2</td>\n",
              "      <td>24.677942</td>\n",
              "    </tr>\n",
              "    <tr>\n",
              "      <th>4</th>\n",
              "      <td>26.0</td>\n",
              "      <td>183.5</td>\n",
              "      <td>83.8</td>\n",
              "      <td>86.4</td>\n",
              "      <td>101.8</td>\n",
              "      <td>101.2</td>\n",
              "      <td>24.886962</td>\n",
              "    </tr>\n",
              "    <tr>\n",
              "      <th>5</th>\n",
              "      <td>24.0</td>\n",
              "      <td>181.0</td>\n",
              "      <td>83.6</td>\n",
              "      <td>100.0</td>\n",
              "      <td>97.3</td>\n",
              "      <td>101.9</td>\n",
              "      <td>25.518147</td>\n",
              "    </tr>\n",
              "    <tr>\n",
              "      <th>...</th>\n",
              "      <td>...</td>\n",
              "      <td>...</td>\n",
              "      <td>...</td>\n",
              "      <td>...</td>\n",
              "      <td>...</td>\n",
              "      <td>...</td>\n",
              "      <td>...</td>\n",
              "    </tr>\n",
              "    <tr>\n",
              "      <th>266</th>\n",
              "      <td>70.0</td>\n",
              "      <td>170.2</td>\n",
              "      <td>60.9</td>\n",
              "      <td>83.6</td>\n",
              "      <td>89.2</td>\n",
              "      <td>88.8</td>\n",
              "      <td>21.023169</td>\n",
              "    </tr>\n",
              "    <tr>\n",
              "      <th>267</th>\n",
              "      <td>72.0</td>\n",
              "      <td>177.2</td>\n",
              "      <td>91.2</td>\n",
              "      <td>105.0</td>\n",
              "      <td>108.5</td>\n",
              "      <td>104.5</td>\n",
              "      <td>29.044734</td>\n",
              "    </tr>\n",
              "    <tr>\n",
              "      <th>269</th>\n",
              "      <td>72.0</td>\n",
              "      <td>167.6</td>\n",
              "      <td>84.7</td>\n",
              "      <td>111.5</td>\n",
              "      <td>111.1</td>\n",
              "      <td>101.7</td>\n",
              "      <td>30.153337</td>\n",
              "    </tr>\n",
              "    <tr>\n",
              "      <th>270</th>\n",
              "      <td>72.0</td>\n",
              "      <td>179.1</td>\n",
              "      <td>86.5</td>\n",
              "      <td>101.3</td>\n",
              "      <td>108.3</td>\n",
              "      <td>97.8</td>\n",
              "      <td>26.966522</td>\n",
              "    </tr>\n",
              "    <tr>\n",
              "      <th>271</th>\n",
              "      <td>74.0</td>\n",
              "      <td>177.8</td>\n",
              "      <td>94.1</td>\n",
              "      <td>108.5</td>\n",
              "      <td>112.4</td>\n",
              "      <td>107.1</td>\n",
              "      <td>29.766386</td>\n",
              "    </tr>\n",
              "  </tbody>\n",
              "</table>\n",
              "<p>245 rows × 7 columns</p>\n",
              "</div>"
            ],
            "text/plain": [
              "      age  height  weight  waist  chest   hips        bmi\n",
              "1    23.0   172.1    70.0   85.2   93.1   94.5  23.633949\n",
              "2    22.0   183.5    78.6   83.0   93.6   98.7  23.342663\n",
              "3    22.0   168.3    69.9   87.9   95.8   99.2  24.677942\n",
              "4    26.0   183.5    83.8   86.4  101.8  101.2  24.886962\n",
              "5    24.0   181.0    83.6  100.0   97.3  101.9  25.518147\n",
              "..    ...     ...     ...    ...    ...    ...        ...\n",
              "266  70.0   170.2    60.9   83.6   89.2   88.8  21.023169\n",
              "267  72.0   177.2    91.2  105.0  108.5  104.5  29.044734\n",
              "269  72.0   167.6    84.7  111.5  111.1  101.7  30.153337\n",
              "270  72.0   179.1    86.5  101.3  108.3   97.8  26.966522\n",
              "271  74.0   177.8    94.1  108.5  112.4  107.1  29.766386\n",
              "\n",
              "[245 rows x 7 columns]"
            ]
          },
          "metadata": {
            "tags": []
          },
          "execution_count": 4
        }
      ]
    },
    {
      "cell_type": "code",
      "metadata": {
        "id": "RN-pVlUSh5FW"
      },
      "source": [
        "# 252筆資料跟真人測量資料合併來訓練模型\n",
        "\n",
        "# x = pd.concat([x, tx], axis=0, ignore_index=True)\n",
        "# y = pd.concat([y, ty], axis=0, ignore_index=True)\n",
        "# x"
      ],
      "execution_count": null,
      "outputs": []
    },
    {
      "cell_type": "code",
      "metadata": {
        "colab": {
          "base_uri": "https://localhost:8080/"
        },
        "id": "5nTrXh8S8F34",
        "outputId": "d982d5f0-9168-4687-cf47-5cd4afc0e1b0"
      },
      "source": [
        "#回歸樹\n",
        "\n",
        "from sklearn.tree import DecisionTreeRegressor\n",
        "from sklearn.model_selection import GridSearchCV\n",
        "from sklearn.metrics import mean_absolute_error\n",
        "reg = DecisionTreeRegressor()\n",
        "params = {\n",
        "    \"max_depth\":range(2, 100)\n",
        "}\n",
        "#GridSearch函式：利用交叉驗證幫你調出最佳參數\n",
        "\n",
        "grid = GridSearchCV(reg, params, cv=10, n_jobs=-1, scoring=\"r2\") #neg_mean_absolute_error\n",
        "grid.fit(x, y)\n",
        "print(grid.best_score_)\n",
        "print(grid.best_params_)\n",
        "\n",
        "grid = GridSearchCV(reg, params, cv=10, n_jobs=-1, scoring=\"neg_mean_squared_error\") #neg_mean_absolute_error\n",
        "grid.fit(x, y)\n",
        "print(grid.best_score_)\n",
        "print(grid.best_params_)\n",
        "\n",
        "reg = DecisionTreeRegressor(max_depth = grid.best_params_['max_depth'])\n",
        "reg.fit(x,y)\n",
        "pre = reg.predict(tx)\n",
        "pre - ty[\"bfp\"]"
      ],
      "execution_count": null,
      "outputs": [
        {
          "output_type": "stream",
          "text": [
            "0.48526454966627697\n",
            "{'max_depth': 2}\n",
            "-22.730597552044248\n",
            "{'max_depth': 3}\n"
          ],
          "name": "stdout"
        },
        {
          "output_type": "execute_result",
          "data": {
            "text/plain": [
              "404   -10.907593\n",
              "405    -0.207593\n",
              "406    -2.607593\n",
              "407     1.278571\n",
              "408    -2.546809\n",
              "410    -3.346809\n",
              "414    -9.507593\n",
              "417   -13.446809\n",
              "418    -5.507593\n",
              "419     2.492407\n",
              "Name: bfp, dtype: float64"
            ]
          },
          "metadata": {
            "tags": []
          },
          "execution_count": 11
        }
      ]
    },
    {
      "cell_type": "code",
      "metadata": {
        "colab": {
          "base_uri": "https://localhost:8080/",
          "height": 700
        },
        "id": "ju8ghviaZKnG",
        "outputId": "14e2363e-74fa-409d-9e9d-35732e1cddc1"
      },
      "source": [
        "import numpy as np\n",
        "import matplotlib.pyplot as plt\n",
        "from sklearn.model_selection import cross_val_score\n",
        "\n",
        "a = []\n",
        "b = []\n",
        "\n",
        "for i in range(2,11):\n",
        "  reg = DecisionTreeRegressor(max_depth=i)\n",
        "  scores = cross_val_score(reg, x, y, cv=10, scoring=\"r2\")\n",
        "  r2 = np.average(scores)\n",
        "  print(np.array(r2))\n",
        "  a.append(r2)\n",
        "  b.append(i)\n",
        "lines = plt.plot(np.array(b),np.array(a))\n",
        "plt.ylabel(\"r2\")\n",
        "plt.xlabel(\"max_depth\")\n",
        "print(a)\n",
        "print(df[\"bfp\"])\n"
      ],
      "execution_count": null,
      "outputs": [
        {
          "output_type": "stream",
          "text": [
            "0.48526454966627697\n",
            "0.5083999347622028\n",
            "0.41941479088221145\n",
            "0.3877546249592889\n",
            "0.41272704003444566\n",
            "0.3184080808594568\n",
            "0.24666481151391179\n",
            "0.19619979226071899\n",
            "0.21846254214598987\n",
            "[0.48526454966627697, 0.5083999347622028, 0.41941479088221145, 0.3877546249592889, 0.41272704003444566, 0.3184080808594568, 0.24666481151391179, 0.19619979226071899, 0.21846254214598987]\n",
            "1      12.6\n",
            "2       6.9\n",
            "3      24.6\n",
            "4      10.9\n",
            "5      27.8\n",
            "       ... \n",
            "266    11.5\n",
            "267    32.3\n",
            "269    28.3\n",
            "270    25.3\n",
            "271    30.7\n",
            "Name: bfp, Length: 245, dtype: float64\n"
          ],
          "name": "stdout"
        },
        {
          "output_type": "display_data",
          "data": {
            "image/png": "[encoded data removed]",
            "text/plain": [
              "<Figure size 432x288 with 1 Axes>"
            ]
          },
          "metadata": {
            "tags": [],
            "needs_background": "light"
          }
        }
      ]
    },
    {
      "cell_type": "code",
      "metadata": {
        "colab": {
          "base_uri": "https://localhost:8080/",
          "height": 625
        },
        "id": "diRUtImi5dCw",
        "outputId": "cc5cb36b-5c78-4d8d-e325-492008614656"
      },
      "source": [
        "import matplotlib.pyplot as plt\n",
        "import seaborn as sns\n",
        "c = pd.cut(x[\"waist\"], bins=10)\n",
        "d = pd.cut(y[\"bfp\"],bins=10)\n",
        "def beautify(s):\n",
        "    return str(s)[1:-1].replace(\", \", \" - \")\n",
        "b = c.apply(beautify)\n",
        "e = d.apply(beautify)\n",
        "plt.figure(figsize=(14, 10))\n",
        "sns.countplot(y= b, hue=e)"
      ],
      "execution_count": null,
      "outputs": [
        {
          "output_type": "execute_result",
          "data": {
            "text/plain": [
              "<matplotlib.axes._subplots.AxesSubplot at 0x7f572107b6d0>"
            ]
          },
          "metadata": {
            "tags": []
          },
          "execution_count": 12
        },
        {
          "output_type": "display_data",
          "data": {
            "image/png": "[encoded data removed]",
            "text/plain": [
              "<Figure size 1008x720 with 1 Axes>"
            ]
          },
          "metadata": {
            "tags": [],
            "needs_background": "light"
          }
        }
      ]
    },
    {
      "cell_type": "code",
      "metadata": {
        "colab": {
          "base_uri": "https://localhost:8080/",
          "height": 297
        },
        "id": "jk05u5ZpcwMu",
        "outputId": "69274bc8-bf59-4590-e781-484ff69bb4dc"
      },
      "source": [
        "fig = plt.figure()   \n",
        "\n",
        "#圖表的設定\n",
        "ax = fig.add_subplot(1, 1, 1)\n",
        "a = df[\"waist\"]\n",
        "b = df[\"weight\"]\n",
        "#散佈圖\n",
        "ax.scatter(a, b, color=\"red\")\n",
        "plt.ylabel(\"weight\")\n",
        "plt.xlabel(\"waist\")"
      ],
      "execution_count": null,
      "outputs": [
        {
          "output_type": "execute_result",
          "data": {
            "text/plain": [
              "Text(0.5, 0, 'waist')"
            ]
          },
          "metadata": {
            "tags": []
          },
          "execution_count": 13
        },
        {
          "output_type": "display_data",
          "data": {
            "image/png": "[encoded data removed]",
            "text/plain": [
              "<Figure size 432x288 with 1 Axes>"
            ]
          },
          "metadata": {
            "tags": [],
            "needs_background": "light"
          }
        }
      ]
    },
    {
      "cell_type": "code",
      "metadata": {
        "id": "xwHUmp3fbGc9",
        "colab": {
          "base_uri": "https://localhost:8080/"
        },
        "outputId": "c3e0d932-334b-42a9-a834-128038b1bd5c"
      },
      "source": [
        "#隨機森林回歸樹\n",
        "\n",
        "from sklearn.ensemble import RandomForestRegressor\n",
        "from sklearn.model_selection import GridSearchCV\n",
        "from sklearn.metrics import mean_absolute_error\n",
        "regressor = RandomForestRegressor()\n",
        "params = {\n",
        "    \"n_estimators\":range(11, 100, 2),\n",
        "    \"max_depth\":range(3, 11)\n",
        "}\n",
        "#GridSearch函式：利用交叉驗證幫你調出最佳參數\n",
        "\n",
        "# grid = GridSearchCV(regressor, params, cv=10, n_jobs=-1, scoring=\"r2\")\n",
        "# grid.fit(x, y)\n",
        "# print(grid.best_score_)\n",
        "# print(grid.best_params_)\n",
        "# bestparams1 = grid.best_params_\n",
        "\n",
        "grid = GridSearchCV(regressor, params, cv=10, n_jobs=-1, scoring=\"neg_mean_squared_error\")\n",
        "grid.fit(x, y)\n",
        "print(grid.best_score_)\n",
        "print(grid.best_params_)\n",
        "bestparams2 = grid.best_params_\n",
        "\n",
        "\n",
        "\n",
        "\n",
        "\n"
      ],
      "execution_count": null,
      "outputs": [
        {
          "output_type": "stream",
          "text": [
            "-18.96941144462898\n",
            "{'max_depth': 4, 'n_estimators': 11}\n"
          ],
          "name": "stdout"
        },
        {
          "output_type": "stream",
          "text": [
            "/usr/local/lib/python3.7/dist-packages/sklearn/model_selection/_search.py:739: DataConversionWarning: A column-vector y was passed when a 1d array was expected. Please change the shape of y to (n_samples,), for example using ravel().\n",
            "  self.best_estimator_.fit(X, y, **fit_params)\n"
          ],
          "name": "stderr"
        }
      ]
    },
    {
      "cell_type": "code",
      "metadata": {
        "colab": {
          "base_uri": "https://localhost:8080/"
        },
        "id": "0CsxgmDFLAwS",
        "outputId": "37a6c0de-6868-49c1-beea-3cabe084c377"
      },
      "source": [
        "print(bestparams2)"
      ],
      "execution_count": null,
      "outputs": [
        {
          "output_type": "stream",
          "text": [
            "{'max_depth': 5, 'n_estimators': 13}\n"
          ],
          "name": "stdout"
        }
      ]
    },
    {
      "cell_type": "code",
      "metadata": {
        "id": "DfKgof-QAfDy",
        "colab": {
          "base_uri": "https://localhost:8080/"
        },
        "outputId": "44899818-a62e-47cf-96d2-a5c7d9a27d33"
      },
      "source": [
        "from sklearn.ensemble import RandomForestRegressor\n",
        "regressor = RandomForestRegressor(max_depth=3,n_estimators=89)\n",
        "regressor.fit(x, y)\n",
        "pre = regressor.predict(tx)\n",
        "pre - ty[\"bfp\"]\n"
      ],
      "execution_count": null,
      "outputs": [
        {
          "output_type": "stream",
          "text": [
            "/usr/local/lib/python3.7/dist-packages/ipykernel_launcher.py:3: DataConversionWarning: A column-vector y was passed when a 1d array was expected. Please change the shape of y to (n_samples,), for example using ravel().\n",
            "  This is separate from the ipykernel package so we can avoid doing imports until\n"
          ],
          "name": "stderr"
        },
        {
          "output_type": "execute_result",
          "data": {
            "text/plain": [
              "404   -10.665989\n",
              "405    -0.788300\n",
              "406    -3.410670\n",
              "407     1.686337\n",
              "408    -3.829078\n",
              "410    -4.560981\n",
              "414    -9.227083\n",
              "417   -17.410073\n",
              "418    -6.263619\n",
              "419     1.955348\n",
              "Name: bfp, dtype: float64"
            ]
          },
          "metadata": {
            "tags": []
          },
          "execution_count": 5
        }
      ]
    },
    {
      "cell_type": "code",
      "metadata": {
        "id": "oEhcKN7oFKFT",
        "colab": {
          "base_uri": "https://localhost:8080/",
          "height": 258
        },
        "outputId": "55efa5ce-c358-4dd6-c7ea-f27d772b3a6b"
      },
      "source": [
        "import pandas as pd\n",
        "#找出特徵的重要性\n",
        "pd.DataFrame(regressor.feature_importances_, \n",
        "       columns=[\"Importance\"],\n",
        "       index=x.keys()).sort_values(by=\"Importance\", ascending=False)\n",
        "       #ascending=False降冪排列"
      ],
      "execution_count": null,
      "outputs": [
        {
          "output_type": "execute_result",
          "data": {
            "text/html": [
              "<div>\n",
              "<style scoped>\n",
              "    .dataframe tbody tr th:only-of-type {\n",
              "        vertical-align: middle;\n",
              "    }\n",
              "\n",
              "    .dataframe tbody tr th {\n",
              "        vertical-align: top;\n",
              "    }\n",
              "\n",
              "    .dataframe thead th {\n",
              "        text-align: right;\n",
              "    }\n",
              "</style>\n",
              "<table border=\"1\" class=\"dataframe\">\n",
              "  <thead>\n",
              "    <tr style=\"text-align: right;\">\n",
              "      <th></th>\n",
              "      <th>Importance</th>\n",
              "    </tr>\n",
              "  </thead>\n",
              "  <tbody>\n",
              "    <tr>\n",
              "      <th>waist</th>\n",
              "      <td>0.880964</td>\n",
              "    </tr>\n",
              "    <tr>\n",
              "      <th>height</th>\n",
              "      <td>0.040854</td>\n",
              "    </tr>\n",
              "    <tr>\n",
              "      <th>weight</th>\n",
              "      <td>0.027764</td>\n",
              "    </tr>\n",
              "    <tr>\n",
              "      <th>bmi</th>\n",
              "      <td>0.020465</td>\n",
              "    </tr>\n",
              "    <tr>\n",
              "      <th>hips</th>\n",
              "      <td>0.010554</td>\n",
              "    </tr>\n",
              "    <tr>\n",
              "      <th>age</th>\n",
              "      <td>0.010336</td>\n",
              "    </tr>\n",
              "    <tr>\n",
              "      <th>chest</th>\n",
              "      <td>0.009063</td>\n",
              "    </tr>\n",
              "  </tbody>\n",
              "</table>\n",
              "</div>"
            ],
            "text/plain": [
              "        Importance\n",
              "waist     0.880964\n",
              "height    0.040854\n",
              "weight    0.027764\n",
              "bmi       0.020465\n",
              "hips      0.010554\n",
              "age       0.010336\n",
              "chest     0.009063"
            ]
          },
          "metadata": {
            "tags": []
          },
          "execution_count": 7
        }
      ]
    },
    {
      "cell_type": "code",
      "metadata": {
        "colab": {
          "base_uri": "https://localhost:8080/",
          "height": 422
        },
        "id": "a_Ac_R4HlMBi",
        "outputId": "21ab5a40-3188-4710-bc7d-0d599999ef6a"
      },
      "source": [
        "from sklearn.preprocessing import MinMaxScaler\n",
        "scaler = MinMaxScaler(feature_range=(-1,1))\n",
        "x_scale = scaler.fit_transform(x)\n",
        "x_scale = pd.DataFrame(x_scale, columns=x.keys())\n",
        "x_scale"
      ],
      "execution_count": null,
      "outputs": [
        {
          "output_type": "execute_result",
          "data": {
            "text/html": [
              "<div>\n",
              "<style scoped>\n",
              "    .dataframe tbody tr th:only-of-type {\n",
              "        vertical-align: middle;\n",
              "    }\n",
              "\n",
              "    .dataframe tbody tr th {\n",
              "        vertical-align: top;\n",
              "    }\n",
              "\n",
              "    .dataframe thead th {\n",
              "        text-align: right;\n",
              "    }\n",
              "</style>\n",
              "<table border=\"1\" class=\"dataframe\">\n",
              "  <thead>\n",
              "    <tr style=\"text-align: right;\">\n",
              "      <th></th>\n",
              "      <th>age</th>\n",
              "      <th>height</th>\n",
              "      <th>weight</th>\n",
              "      <th>waist</th>\n",
              "      <th>chest</th>\n",
              "      <th>hips</th>\n",
              "      <th>bmi</th>\n",
              "    </tr>\n",
              "  </thead>\n",
              "  <tbody>\n",
              "    <tr>\n",
              "      <th>0</th>\n",
              "      <td>-0.966102</td>\n",
              "      <td>-0.455587</td>\n",
              "      <td>-0.504587</td>\n",
              "      <td>-0.443662</td>\n",
              "      <td>-0.436735</td>\n",
              "      <td>-0.532020</td>\n",
              "      <td>-0.468673</td>\n",
              "    </tr>\n",
              "    <tr>\n",
              "      <th>1</th>\n",
              "      <td>-1.000000</td>\n",
              "      <td>0.197708</td>\n",
              "      <td>-0.241590</td>\n",
              "      <td>-0.521127</td>\n",
              "      <td>-0.416327</td>\n",
              "      <td>-0.325123</td>\n",
              "      <td>-0.496332</td>\n",
              "    </tr>\n",
              "    <tr>\n",
              "      <th>2</th>\n",
              "      <td>-1.000000</td>\n",
              "      <td>-0.673352</td>\n",
              "      <td>-0.507645</td>\n",
              "      <td>-0.348592</td>\n",
              "      <td>-0.326531</td>\n",
              "      <td>-0.300493</td>\n",
              "      <td>-0.369541</td>\n",
              "    </tr>\n",
              "    <tr>\n",
              "      <th>3</th>\n",
              "      <td>-0.864407</td>\n",
              "      <td>0.197708</td>\n",
              "      <td>-0.082569</td>\n",
              "      <td>-0.401408</td>\n",
              "      <td>-0.081633</td>\n",
              "      <td>-0.201970</td>\n",
              "      <td>-0.349693</td>\n",
              "    </tr>\n",
              "    <tr>\n",
              "      <th>4</th>\n",
              "      <td>-0.932203</td>\n",
              "      <td>0.054441</td>\n",
              "      <td>-0.088685</td>\n",
              "      <td>0.077465</td>\n",
              "      <td>-0.265306</td>\n",
              "      <td>-0.167488</td>\n",
              "      <td>-0.289759</td>\n",
              "    </tr>\n",
              "    <tr>\n",
              "      <th>...</th>\n",
              "      <td>...</td>\n",
              "      <td>...</td>\n",
              "      <td>...</td>\n",
              "      <td>...</td>\n",
              "      <td>...</td>\n",
              "      <td>...</td>\n",
              "      <td>...</td>\n",
              "    </tr>\n",
              "    <tr>\n",
              "      <th>240</th>\n",
              "      <td>0.627119</td>\n",
              "      <td>-0.564470</td>\n",
              "      <td>-0.782875</td>\n",
              "      <td>-0.500000</td>\n",
              "      <td>-0.595918</td>\n",
              "      <td>-0.812808</td>\n",
              "      <td>-0.716580</td>\n",
              "    </tr>\n",
              "    <tr>\n",
              "      <th>241</th>\n",
              "      <td>0.694915</td>\n",
              "      <td>-0.163324</td>\n",
              "      <td>0.143731</td>\n",
              "      <td>0.253521</td>\n",
              "      <td>0.191837</td>\n",
              "      <td>-0.039409</td>\n",
              "      <td>0.045108</td>\n",
              "    </tr>\n",
              "    <tr>\n",
              "      <th>242</th>\n",
              "      <td>0.694915</td>\n",
              "      <td>-0.713467</td>\n",
              "      <td>-0.055046</td>\n",
              "      <td>0.482394</td>\n",
              "      <td>0.297959</td>\n",
              "      <td>-0.177340</td>\n",
              "      <td>0.150375</td>\n",
              "    </tr>\n",
              "    <tr>\n",
              "      <th>243</th>\n",
              "      <td>0.694915</td>\n",
              "      <td>-0.054441</td>\n",
              "      <td>0.000000</td>\n",
              "      <td>0.123239</td>\n",
              "      <td>0.183673</td>\n",
              "      <td>-0.369458</td>\n",
              "      <td>-0.152229</td>\n",
              "    </tr>\n",
              "    <tr>\n",
              "      <th>244</th>\n",
              "      <td>0.762712</td>\n",
              "      <td>-0.128940</td>\n",
              "      <td>0.232416</td>\n",
              "      <td>0.376761</td>\n",
              "      <td>0.351020</td>\n",
              "      <td>0.088670</td>\n",
              "      <td>0.113633</td>\n",
              "    </tr>\n",
              "  </tbody>\n",
              "</table>\n",
              "<p>245 rows × 7 columns</p>\n",
              "</div>"
            ],
            "text/plain": [
              "          age    height    weight     waist     chest      hips       bmi\n",
              "0   -0.966102 -0.455587 -0.504587 -0.443662 -0.436735 -0.532020 -0.468673\n",
              "1   -1.000000  0.197708 -0.241590 -0.521127 -0.416327 -0.325123 -0.496332\n",
              "2   -1.000000 -0.673352 -0.507645 -0.348592 -0.326531 -0.300493 -0.369541\n",
              "3   -0.864407  0.197708 -0.082569 -0.401408 -0.081633 -0.201970 -0.349693\n",
              "4   -0.932203  0.054441 -0.088685  0.077465 -0.265306 -0.167488 -0.289759\n",
              "..        ...       ...       ...       ...       ...       ...       ...\n",
              "240  0.627119 -0.564470 -0.782875 -0.500000 -0.595918 -0.812808 -0.716580\n",
              "241  0.694915 -0.163324  0.143731  0.253521  0.191837 -0.039409  0.045108\n",
              "242  0.694915 -0.713467 -0.055046  0.482394  0.297959 -0.177340  0.150375\n",
              "243  0.694915 -0.054441  0.000000  0.123239  0.183673 -0.369458 -0.152229\n",
              "244  0.762712 -0.128940  0.232416  0.376761  0.351020  0.088670  0.113633\n",
              "\n",
              "[245 rows x 7 columns]"
            ]
          },
          "metadata": {
            "tags": []
          },
          "execution_count": 9
        }
      ]
    },
    {
      "cell_type": "code",
      "metadata": {
        "colab": {
          "base_uri": "https://localhost:8080/"
        },
        "id": "dQvTmwXsUPgN",
        "outputId": "85748cd1-da7a-4906-d48c-418a9c67df98"
      },
      "source": [
        "#knn回歸\n",
        "from sklearn.neighbors import KNeighborsRegressor\n",
        "from sklearn.model_selection import GridSearchCV\n",
        "\n",
        "regressor = KNeighborsRegressor()\n",
        "params = {\n",
        "    \"n_neighbors\":range(1, 100)\n",
        "}\n",
        "\n",
        "grid = GridSearchCV(regressor, params, cv=10, n_jobs=-1, scoring=\"r2\") #neg_mean_absolute_error\n",
        "grid.fit(x_scale, y)\n",
        "print(grid.best_score_)\n",
        "print(grid.best_params_)\n",
        "\n",
        "grid = GridSearchCV(regressor, params, cv=10, n_jobs=-1, scoring=\"neg_mean_squared_error\") #neg_mean_absolute_error\n",
        "grid.fit(x_scale, y)\n",
        "print(grid.best_score_)\n",
        "print(grid.best_params_)\n",
        "\n"
      ],
      "execution_count": null,
      "outputs": [
        {
          "output_type": "stream",
          "text": [
            "0.46042443873031313\n",
            "{'n_neighbors': 13}\n",
            "-23.932614643750004\n",
            "{'n_neighbors': 8}\n"
          ],
          "name": "stdout"
        }
      ]
    },
    {
      "cell_type": "code",
      "metadata": {
        "colab": {
          "base_uri": "https://localhost:8080/",
          "height": 258
        },
        "id": "rOgPzadNdbFZ",
        "outputId": "0477808a-b101-4e64-8d00-eec3acc7608b"
      },
      "source": [
        "regressor = KNeighborsRegressor(n_neighbors=8)\n",
        "regressor.fit(x_scale,y)\n",
        "pre = regressor.predict(tx)\n",
        "pre - ty"
      ],
      "execution_count": null,
      "outputs": [
        {
          "output_type": "execute_result",
          "data": {
            "text/html": [
              "<div>\n",
              "<style scoped>\n",
              "    .dataframe tbody tr th:only-of-type {\n",
              "        vertical-align: middle;\n",
              "    }\n",
              "\n",
              "    .dataframe tbody tr th {\n",
              "        vertical-align: top;\n",
              "    }\n",
              "\n",
              "    .dataframe thead th {\n",
              "        text-align: right;\n",
              "    }\n",
              "</style>\n",
              "<table border=\"1\" class=\"dataframe\">\n",
              "  <thead>\n",
              "    <tr style=\"text-align: right;\">\n",
              "      <th></th>\n",
              "      <th>bfp</th>\n",
              "    </tr>\n",
              "  </thead>\n",
              "  <tbody>\n",
              "    <tr>\n",
              "      <th>404</th>\n",
              "      <td>6.2125</td>\n",
              "    </tr>\n",
              "    <tr>\n",
              "      <th>405</th>\n",
              "      <td>15.3375</td>\n",
              "    </tr>\n",
              "    <tr>\n",
              "      <th>406</th>\n",
              "      <td>13.3000</td>\n",
              "    </tr>\n",
              "    <tr>\n",
              "      <th>407</th>\n",
              "      <td>2.7125</td>\n",
              "    </tr>\n",
              "    <tr>\n",
              "      <th>408</th>\n",
              "      <td>7.7125</td>\n",
              "    </tr>\n",
              "    <tr>\n",
              "      <th>410</th>\n",
              "      <td>6.9125</td>\n",
              "    </tr>\n",
              "    <tr>\n",
              "      <th>414</th>\n",
              "      <td>7.6125</td>\n",
              "    </tr>\n",
              "  </tbody>\n",
              "</table>\n",
              "</div>"
            ],
            "text/plain": [
              "         bfp\n",
              "404   6.2125\n",
              "405  15.3375\n",
              "406  13.3000\n",
              "407   2.7125\n",
              "408   7.7125\n",
              "410   6.9125\n",
              "414   7.6125"
            ]
          },
          "metadata": {
            "tags": []
          },
          "execution_count": 13
        }
      ]
    },
    {
      "cell_type": "code",
      "metadata": {
        "colab": {
          "base_uri": "https://localhost:8080/"
        },
        "id": "6QT19CyZMJCx",
        "outputId": "d4912b4f-23c0-458a-92e2-f98b9d9b93e4"
      },
      "source": [
        "import numpy as np\n",
        "from sklearn.preprocessing import PolynomialFeatures\n",
        "poly_reg = PolynomialFeatures(degree = 2)\n",
        "#(degree提升的維度)\n",
        "\n",
        "x_poly = poly_reg.fit_transform(x)\n",
        "from sklearn.linear_model import LinearRegression\n",
        "\n",
        "\n",
        "from sklearn.model_selection import cross_val_score\n",
        "lin_reg2 = LinearRegression()\n",
        "scores = cross_val_score(lin_reg2, x_poly, y, cv=10, scoring=\"r2\") #scoring=\"r2\",\"neg_mean_absolute_error\"\n",
        "\n",
        "print(scores)\n",
        "print(np.average(scores))\n",
        "\n",
        "lin_reg2 = LinearRegression()\n",
        "scores = cross_val_score(lin_reg2, x_poly, y, cv=10, scoring=\"neg_root_mean_squared_error\") #scoring=\"r2\",\"neg_mean_absolute_error\"\n",
        "\n",
        "print(scores)\n",
        "print(np.average(scores))\n",
        "\n",
        "\n",
        "\n"
      ],
      "execution_count": null,
      "outputs": [
        {
          "output_type": "stream",
          "text": [
            "[ 0.36797936  0.597998   -2.97306383  0.02100704 -2.94528316  0.31571396\n",
            " -3.55909441 -0.44232709 -0.9663281  -4.50555684]\n",
            "-1.4088955067232558\n",
            "[ -4.83623539  -6.54836403 -14.5246775   -5.9067089   -8.0489888\n",
            "  -5.08303092 -13.53427126  -8.76491102 -13.28464286 -16.7751894 ]\n",
            "-9.730702007381934\n"
          ],
          "name": "stdout"
        }
      ]
    },
    {
      "cell_type": "code",
      "metadata": {
        "id": "g5bGSjKj4M6W"
      },
      "source": [
        "# 使用多項式回歸模型，輸入資料測試，記得要先transform\n",
        "\n",
        "x_poly = poly_reg.fit_transform(x)\n",
        "lin_reg2 = LinearRegression()\n",
        "lin_reg2.fit(x_poly, y)\n",
        "x_poly = poly_reg.transform(tx)\n",
        "pre = lin_reg2.predict(x_poly)\n",
        "pre "
      ],
      "execution_count": null,
      "outputs": []
    },
    {
      "cell_type": "code",
      "metadata": {
        "colab": {
          "base_uri": "https://localhost:8080/"
        },
        "id": "D4-fPxbCeHmb",
        "outputId": "9bec1b74-969d-4ca4-8af0-bb8e794d5686"
      },
      "source": [
        "from sklearn.linear_model import LinearRegression\n",
        "import numpy as np\n",
        "from sklearn.model_selection import cross_val_score\n",
        "\n",
        "lin_reg = LinearRegression()\n",
        "scores = cross_val_score(lin_reg, x, y, cv=10, scoring=\"r2\") #scoring=\"r2\",\"neg_mean_absolute_error\"\n",
        "# 這裡就不用 fit 了, fit 和 predict 會由交叉驗證幫你做, cv 參數代表要幾次的交叉驗證\n",
        "# n_jobs=-1使用最多核心來運算\n",
        "print(scores)\n",
        "print(np.average(scores))\n",
        "\n",
        "scores = cross_val_score(lin_reg, x, y, cv=10, scoring=\"neg_mean_squared_error\") \n",
        "print(scores)\n",
        "print(np.average(scores))\n",
        "\n",
        "lin_reg.fit(x,y)\n",
        "pre = lin_reg.predict(tx)\n",
        "print(pre - ty)"
      ],
      "execution_count": null,
      "outputs": [
        {
          "output_type": "stream",
          "text": [
            "[ 0.53181999  0.85485848  0.73747074  0.5490529  -0.00367056  0.54523474\n",
            "  0.72958381  0.69783831  0.70362266  0.7265798 ]\n",
            "0.6072390870321505\n",
            "[-17.32592647 -15.48207153 -13.94007677 -16.07078777 -16.481459\n",
            " -17.1709808  -10.86485294 -16.0942473  -26.60043729 -13.9753989 ]\n",
            "-16.400623876123255\n",
            "           bfp\n",
            "404  -6.760427\n",
            "405  -5.028361\n",
            "406  -5.312079\n",
            "407   1.066056\n",
            "408  -3.550805\n",
            "410  -4.725940\n",
            "414  -7.082104\n",
            "417 -14.250679\n",
            "418  -3.339669\n",
            "419  -3.620470\n"
          ],
          "name": "stdout"
        }
      ]
    },
    {
      "cell_type": "code",
      "metadata": {
        "colab": {
          "base_uri": "https://localhost:8080/"
        },
        "id": "9kGg6Zq9x9QI",
        "outputId": "6b97580c-c3a6-435b-f44c-66fec4d5d677"
      },
      "source": [
        "# 有調整偏度的線性回歸\n",
        "import numpy as np\n",
        "from scipy.stats import skew\n",
        "from scipy.stats import boxcox_normmax\n",
        "from scipy.special import boxcox1p, log1p,inv_boxcox1p\n",
        "y = y[\"bfp\"]\n",
        "lamda = boxcox_normmax(1 + y)\n",
        "y_trains = boxcox1p(y, lamda)\n",
        "def getskew(series):\n",
        "    return skew(series.dropna()+1)\n",
        "\n",
        "skewness = (x[x.keys()].apply(getskew)\n",
        "                  .sort_values(ascending=False))\n",
        "# .sort_values排序\n",
        "need_saved = skewness.index\n",
        "def rlamda(s):\n",
        "  lamda = boxcox_normmax(s.dropna() + 1)\n",
        "  return (lamda)\n",
        "realamda = x[need_saved].apply(rlamda)\n",
        "realamda = realamda.to_dict()\n",
        "def save(s):\n",
        "    lamda = boxcox_normmax(s.dropna() + 1)\n",
        "    return boxcox1p(s, lamda)\n",
        "x[need_saved] = x[need_saved].apply(save)\n",
        "skewness = (x[x.keys()].apply(getskew)\n",
        "                  .sort_values(ascending=False))\n",
        "\n",
        "test_row = pd.DataFrame(tx, columns=tx.keys())\n",
        "# 將要預測的每個值做轉換,需要用當初訓練時用的lamda\n",
        "for i in realamda.keys():\n",
        "  test_row[i]= boxcox1p(test_row[i],realamda[i])\n",
        "print(test_row)\n",
        "\n",
        "\n",
        "\n",
        "pre = model.predict(test_row)\n",
        "pre = inv_boxcox1p(pre, lamda)\n",
        "\n",
        "print(pre)\n",
        "print(ty[\"bfp\"])\n",
        "\n",
        "from sklearn.metrics import mean_absolute_error,r2_score,mean_squared_error\n",
        "print(\"mean_absolute_error:\",mean_absolute_error(pre, ty[\"bfp\"]))\n",
        "print(\"r2_score:\",r2_score(pre, ty[\"bfp\"]))\n",
        "for i in realamda.keys():\n",
        "  tx[i]= inv_boxcox1p(tx[i],realamda[i])\n",
        "tx[\"bfp\"] = ty[\"bfp\"]\n",
        "tx[\"pre\"] = pre\n",
        "tx[\"pre-bfp\"] = (pre - tx[\"bfp\"] )\n",
        "print(tx)"
      ],
      "execution_count": null,
      "outputs": [
        {
          "output_type": "stream",
          "text": [
            "           age    height    weight     waist     chest      hips       bmi\n",
            "404  11.294238  2.181404  3.774785  1.579717  0.875317  0.629858  1.102203\n",
            "405   9.941476  2.180623  3.535912  1.565033  0.874470  0.629762  1.081795\n",
            "406  10.494348  2.188866  3.699875  1.571857  0.875021  0.629827  1.087596\n",
            "407   9.658508  2.190991  4.107854  1.596870  0.876260  0.629971  1.117755\n",
            "408  11.294238  2.187422  3.869628  1.584045  0.875586  0.629886  1.103786\n",
            "410  11.294238  2.185954  3.868539  1.584045  0.875830  0.629886  1.105137\n",
            "414  11.031273  2.182945  3.808502  1.578801  0.875521  0.629858  1.103367\n",
            "417   9.941476  2.182945  4.058547  1.585669  0.876081  0.629951  1.120990\n",
            "418  11.294238  2.193067  3.858669  1.580615  0.875386  0.629869  1.097024\n",
            "419   9.941476  2.177838  3.575091  1.563177  0.874515  0.629800  1.088818\n",
            "[16.29248747  6.80716213  8.33371062 27.32680539 17.71001824 17.32408512\n",
            " 14.15064814 17.96452365 13.44738833  5.47459066]\n",
            "404    22.6\n",
            "405    11.9\n",
            "406    14.3\n",
            "407    26.1\n",
            "408    21.1\n",
            "410    21.9\n",
            "414    21.2\n",
            "417    32.0\n",
            "418    17.2\n",
            "419     9.2\n",
            "Name: bfp, dtype: float64\n",
            "mean_absolute_error: 5.512219104819453\n",
            "r2_score: -0.0846560932371192\n",
            "      age  height  weight  waist  ...        bmi   bfp        pre    pre-bfp\n",
            "404  29.0   166.0    64.8   82.0  ...  23.515750  22.6  16.292487  -6.307513\n",
            "405  24.0   165.0    48.1   68.0  ...  17.667585  11.9   6.807162  -5.092838\n",
            "406  26.0   176.0    59.0   74.0  ...  19.047004  14.3   8.333711  -5.966289\n",
            "407  23.0   179.0    98.7  105.0  ...  30.804282  26.1  27.326805   1.226805\n",
            "408  29.0   174.0    73.0   87.0  ...  24.111507  21.1  17.710018  -3.389982\n",
            "410  29.0   172.0    72.9   87.0  ...  24.641698  21.9  17.324085  -4.575915\n",
            "414  28.0   168.0    67.6   81.0  ...  23.951247  21.2  14.150648  -7.049352\n",
            "417  24.0   168.0    92.7   89.0  ...  32.844388  32.0  17.964524 -14.035476\n",
            "418  29.0   182.0    72.0   83.0  ...  21.736505  17.2  13.447388  -3.752612\n",
            "419  24.0   161.5    50.5   66.5  ...  19.361827   9.2   5.474591  -3.725409\n",
            "\n",
            "[10 rows x 10 columns]\n"
          ],
          "name": "stdout"
        },
        {
          "output_type": "stream",
          "text": [
            "/usr/local/lib/python3.7/dist-packages/scipy/stats/stats.py:3508: PearsonRConstantInputWarning: An input array is constant; the correlation coefficent is not defined.\n",
            "  warnings.warn(PearsonRConstantInputWarning())\n",
            "/usr/local/lib/python3.7/dist-packages/scipy/stats/stats.py:3538: PearsonRNearConstantInputWarning: An input array is nearly constant; the computed correlation coefficent may be inaccurate.\n",
            "  warnings.warn(PearsonRNearConstantInputWarning())\n"
          ],
          "name": "stderr"
        }
      ]
    },
    {
      "cell_type": "code",
      "metadata": {
        "colab": {
          "base_uri": "https://localhost:8080/"
        },
        "id": "Vqmi7_xz6eB4",
        "outputId": "14a438f0-f3db-48aa-ce70-b0c1809c2e2e"
      },
      "source": [
        "from sklearn.preprocessing import StandardScaler\n",
        "scaler = StandardScaler()\n",
        "x_scale = scaler.fit_transform(x)\n",
        "tx_scale = scaler.transform(tx)\n",
        "\n",
        "x_scale"
      ],
      "execution_count": null,
      "outputs": [
        {
          "output_type": "execute_result",
          "data": {
            "text/plain": [
              "array([[-1.75244079, -1.01809141, -0.93624216, ..., -0.97988889,\n",
              "        -0.85155384, -0.53088743],\n",
              "       [-1.83170016,  0.72672623, -0.22132815, ..., -0.91752909,\n",
              "        -0.19420283, -0.61837972],\n",
              "       [-1.83170016, -1.59969729, -0.94455511, ..., -0.64314595,\n",
              "        -0.11594675, -0.21730769],\n",
              "       ...,\n",
              "       [ 2.13126822, -1.70683522,  0.28576202, ...,  1.2650641 ,\n",
              "         0.27533361,  1.42731341],\n",
              "       [ 2.13126822,  0.05328784,  0.43539519, ...,  0.91584919,\n",
              "        -0.33506376,  0.47010327],\n",
              "       [ 2.28978695, -0.14568259,  1.06717966, ...,  1.4271996 ,\n",
              "         1.1204992 ,  1.31108659]])"
            ]
          },
          "metadata": {
            "tags": []
          },
          "execution_count": 13
        }
      ]
    },
    {
      "cell_type": "code",
      "metadata": {
        "id": "_YopH8gt1bpf"
      },
      "source": [
        "from sklearn.decomposition import PCA\n",
        "pca = PCA(n_components=6)\n",
        "\n",
        "x_pca = pca.fit_transform(x_scale)\n",
        "tx_pca = pca.transform(tx_scale)"
      ],
      "execution_count": null,
      "outputs": []
    },
    {
      "cell_type": "code",
      "metadata": {
        "colab": {
          "base_uri": "https://localhost:8080/",
          "height": 471
        },
        "id": "QqnF-wTyvKpv",
        "outputId": "98d0e0eb-127d-4dcd-d564-c92d1a435b57"
      },
      "source": [
        "#pca+線性回歸\n",
        "from sklearn.linear_model import LinearRegression\n",
        "import numpy as np\n",
        "from sklearn.model_selection import cross_val_score\n",
        "\n",
        "lin_reg = LinearRegression()\n",
        "scores = cross_val_score(lin_reg, x_pca, y, cv=10, scoring=\"r2\") #scoring=\"r2\",\"neg_mean_absolute_error\"\n",
        "\n",
        "print(scores)\n",
        "print(np.average(scores))\n",
        "\n",
        "scores = cross_val_score(lin_reg, x_pca, y, cv=10, scoring=\"neg_mean_squared_error\") #scoring=\"r2\",\"neg_mean_absolute_error\"\n",
        "\n",
        "print(scores)\n",
        "print(np.average(scores))\n",
        "\n",
        "lin_reg.fit(x_pca,y)\n",
        "\n",
        "pre = lin_reg.predict(tx_pca)\n",
        "pre - ty\n",
        "\n",
        "\n"
      ],
      "execution_count": null,
      "outputs": [
        {
          "output_type": "stream",
          "text": [
            "[ 0.54543924  0.85490912  0.73971707  0.5636831  -0.02136759  0.53137999\n",
            "  0.71753154  0.71441813  0.69746135  0.73280438]\n",
            "0.6075976334362253\n",
            "[-16.82191913 -15.47667034 -13.82079882 -15.54939895 -16.77206505\n",
            " -17.694107   -11.34909241 -15.21114441 -27.15342674 -13.65724026]\n",
            "-16.350586309792\n"
          ],
          "name": "stdout"
        },
        {
          "output_type": "execute_result",
          "data": {
            "text/html": [
              "<div>\n",
              "<style scoped>\n",
              "    .dataframe tbody tr th:only-of-type {\n",
              "        vertical-align: middle;\n",
              "    }\n",
              "\n",
              "    .dataframe tbody tr th {\n",
              "        vertical-align: top;\n",
              "    }\n",
              "\n",
              "    .dataframe thead th {\n",
              "        text-align: right;\n",
              "    }\n",
              "</style>\n",
              "<table border=\"1\" class=\"dataframe\">\n",
              "  <thead>\n",
              "    <tr style=\"text-align: right;\">\n",
              "      <th></th>\n",
              "      <th>bfp</th>\n",
              "    </tr>\n",
              "  </thead>\n",
              "  <tbody>\n",
              "    <tr>\n",
              "      <th>404</th>\n",
              "      <td>-6.318973</td>\n",
              "    </tr>\n",
              "    <tr>\n",
              "      <th>405</th>\n",
              "      <td>-3.597354</td>\n",
              "    </tr>\n",
              "    <tr>\n",
              "      <th>406</th>\n",
              "      <td>-5.168668</td>\n",
              "    </tr>\n",
              "    <tr>\n",
              "      <th>407</th>\n",
              "      <td>1.130506</td>\n",
              "    </tr>\n",
              "    <tr>\n",
              "      <th>408</th>\n",
              "      <td>-3.476428</td>\n",
              "    </tr>\n",
              "    <tr>\n",
              "      <th>410</th>\n",
              "      <td>-4.598719</td>\n",
              "    </tr>\n",
              "    <tr>\n",
              "      <th>414</th>\n",
              "      <td>-6.811444</td>\n",
              "    </tr>\n",
              "    <tr>\n",
              "      <th>417</th>\n",
              "      <td>-15.218402</td>\n",
              "    </tr>\n",
              "    <tr>\n",
              "      <th>418</th>\n",
              "      <td>-3.607099</td>\n",
              "    </tr>\n",
              "    <tr>\n",
              "      <th>419</th>\n",
              "      <td>-2.102219</td>\n",
              "    </tr>\n",
              "  </tbody>\n",
              "</table>\n",
              "</div>"
            ],
            "text/plain": [
              "           bfp\n",
              "404  -6.318973\n",
              "405  -3.597354\n",
              "406  -5.168668\n",
              "407   1.130506\n",
              "408  -3.476428\n",
              "410  -4.598719\n",
              "414  -6.811444\n",
              "417 -15.218402\n",
              "418  -3.607099\n",
              "419  -2.102219"
            ]
          },
          "metadata": {
            "tags": []
          },
          "execution_count": 28
        }
      ]
    },
    {
      "cell_type": "code",
      "metadata": {
        "colab": {
          "base_uri": "https://localhost:8080/"
        },
        "id": "N6XGHJJ67HGh",
        "outputId": "f1010b4b-926b-4e3d-f21d-55f39dc03527"
      },
      "source": [
        "#PLS\n",
        "from sklearn.cross_decomposition import PLSRegression\n",
        "from sklearn.model_selection import cross_val_score\n",
        "import numpy as np\n",
        "pls = PLSRegression(n_components=3)\n",
        "\n",
        "\n",
        "scores = cross_val_score(pls, x, y, cv=10, scoring=\"r2\")\n",
        "print(scores)\n",
        "print(np.average(scores))\n",
        "\n",
        "scores = cross_val_score(pls, x, y, cv=10, scoring=\"neg_mean_absolute_error\")\n",
        "print(scores)\n",
        "print(np.average(scores))\n",
        "\n",
        "\n",
        "pls.fit(x,y)\n",
        "scores = pls.score(x,y)\n",
        "\n",
        "pre = pls.predict(tx)\n",
        "print(pre - ty)\n",
        "print(scores)\n",
        "\n",
        "# tx[\"bfp\"] = ty[\"bfp\"]\n",
        "# tx[\"pre\"] = pre\n",
        "# tx[\"pre-bfp\"] = (pre - ty)\n",
        "# print(tx)\n"
      ],
      "execution_count": null,
      "outputs": [
        {
          "output_type": "stream",
          "text": [
            "[ 0.34442539  0.85659227  0.68480164  0.43908577 -0.03345167  0.50038449\n",
            "  0.64496851  0.64298429  0.69908185  0.7508767 ]\n",
            "0.5529749236745378\n",
            "[-4.3184096  -3.20468496 -3.31816842 -3.78048226 -3.25872428 -3.78381073\n",
            " -2.8684188  -3.50928728 -4.45155851 -3.07360537]\n",
            "-3.5567150211715926\n",
            "          bfp\n",
            "404 -4.618576\n",
            "405 -2.782462\n",
            "406 -4.884296\n",
            "407  2.569511\n",
            "408 -2.757189\n",
            "410 -3.000590\n",
            "414 -4.449803\n",
            "417 -7.881501\n",
            "418 -4.192190\n",
            "419  1.069362\n",
            "0.6841940305736763\n"
          ],
          "name": "stdout"
        }
      ]
    },
    {
      "cell_type": "code",
      "metadata": {
        "colab": {
          "base_uri": "https://localhost:8080/",
          "height": 407
        },
        "id": "FZvIPbc75zZt",
        "outputId": "3cc08a2b-88aa-4ef0-8658-67b24864e071"
      },
      "source": [
        "import numpy as np\n",
        "import matplotlib.pyplot as plt\n",
        "from sklearn.model_selection import cross_val_score\n",
        "\n",
        "a = []\n",
        "b = []\n",
        "\n",
        "for i in range(2,8):\n",
        "  pls = PLSRegression(n_components= i)\n",
        "  pls.fit(x,y)\n",
        "  r2 = pls.score(x,y)\n",
        "  print(np.array(r2))\n",
        "  a.append(r2)\n",
        "  b.append(i)\n",
        "lines = plt.plot(np.array(b),np.array(a))\n",
        "plt.ylabel(\"r2\")\n",
        "plt.xlabel(\"n_components\")\n",
        "\n"
      ],
      "execution_count": null,
      "outputs": [
        {
          "output_type": "stream",
          "text": [
            "0.6376076035375345\n",
            "0.6841940305736763\n",
            "0.7168302470986698\n",
            "0.718651374360032\n",
            "0.7189145948960785\n",
            "0.7201533263241873\n"
          ],
          "name": "stdout"
        },
        {
          "output_type": "execute_result",
          "data": {
            "text/plain": [
              "Text(0.5, 0, 'n_components')"
            ]
          },
          "metadata": {
            "tags": []
          },
          "execution_count": 29
        },
        {
          "output_type": "display_data",
          "data": {
            "image/png": "[encoded data removed]",
            "text/plain": [
              "<Figure size 432x288 with 1 Axes>"
            ]
          },
          "metadata": {
            "tags": [],
            "needs_background": "light"
          }
        }
      ]
    },
    {
      "cell_type": "code",
      "metadata": {
        "colab": {
          "base_uri": "https://localhost:8080/",
          "height": 409
        },
        "id": "FdSIHM_c6nZU",
        "outputId": "ac2d0d3d-9bbe-4316-dab8-a3413bbe025f"
      },
      "source": [
        "import numpy as np\n",
        "import matplotlib.pyplot as plt\n",
        "from sklearn.model_selection import cross_val_score\n",
        "\n",
        "a = []\n",
        "b = []\n",
        "\n",
        "for i in range(2,8):\n",
        "  pls = PLSRegression(n_components= i)\n",
        "  scores = cross_val_score(pls, x, y, cv=10, scoring=\"neg_mean_squared_error\")\n",
        "  mse = abs(np.average(scores))\n",
        "  print(mse)\n",
        "  a.append(mse)\n",
        "  b.append(i)\n",
        "lines = plt.plot(np.array(b),np.array(a))\n",
        "plt.ylabel(\"mse\")\n",
        "plt.xlabel(\"n_components\")\n"
      ],
      "execution_count": null,
      "outputs": [
        {
          "output_type": "stream",
          "text": [
            "20.822950064875272\n",
            "18.514145001888295\n",
            "16.618779932128582\n",
            "16.345257243251464\n",
            "16.34085153190822\n",
            "16.40062387612326\n"
          ],
          "name": "stdout"
        },
        {
          "output_type": "execute_result",
          "data": {
            "text/plain": [
              "Text(0.5, 0, 'n_components')"
            ]
          },
          "metadata": {
            "tags": []
          },
          "execution_count": 30
        },
        {
          "output_type": "display_data",
          "data": {
            "image/png": "[encoded data removed]",
            "text/plain": [
              "<Figure size 432x288 with 1 Axes>"
            ]
          },
          "metadata": {
            "tags": [],
            "needs_background": "light"
          }
        }
      ]
    },
    {
      "cell_type": "code",
      "metadata": {
        "colab": {
          "base_uri": "https://localhost:8080/",
          "height": 407
        },
        "id": "Nf3xHsmeAjZR",
        "outputId": "3b0298cf-4556-47de-fac5-a009a163935d"
      },
      "source": [
        "from sklearn.metrics import mean_squared_error\n",
        "a = []\n",
        "b = []\n",
        "\n",
        "for i in range(2,8):\n",
        "  pls = PLSRegression(n_components= i)\n",
        "  pls.fit(x,y)\n",
        "  pre = pls.predict(tx)\n",
        "  mse = mean_squared_error(ty,pre)\n",
        "  print(mse)\n",
        "  a.append(mse)\n",
        "  b.append(i)\n",
        "lines = plt.plot(np.array(b),np.array(a))\n",
        "plt.ylabel(\"mse\")\n",
        "plt.xlabel(\"n_components\")"
      ],
      "execution_count": null,
      "outputs": [
        {
          "output_type": "stream",
          "text": [
            "39.91722748386672\n",
            "17.677451087491026\n",
            "37.09454291130155\n",
            "41.83650959562318\n",
            "40.07676251420543\n",
            "41.27843962682379\n"
          ],
          "name": "stdout"
        },
        {
          "output_type": "execute_result",
          "data": {
            "text/plain": [
              "Text(0.5, 0, 'n_components')"
            ]
          },
          "metadata": {
            "tags": []
          },
          "execution_count": 31
        },
        {
          "output_type": "display_data",
          "data": {
            "image/png": "[encoded data removed]",
            "text/plain": [
              "<Figure size 432x288 with 1 Axes>"
            ]
          },
          "metadata": {
            "tags": [],
            "needs_background": "light"
          }
        }
      ]
    },
    {
      "cell_type": "code",
      "metadata": {
        "colab": {
          "base_uri": "https://localhost:8080/",
          "height": 408
        },
        "id": "TzOzxwvBBhbW",
        "outputId": "4c396a59-baf9-485c-de94-0b8efa91a8bd"
      },
      "source": [
        "from sklearn.metrics import r2_score\n",
        "a = []\n",
        "b = []\n",
        "\n",
        "for i in range(2,8):\n",
        "  pls = PLSRegression(n_components= i)\n",
        "  pls.fit(x,y)\n",
        "  pre = pls.predict(tx)\n",
        "  r2 = r2_score(ty,pre)\n",
        "  print(r2)\n",
        "  a.append(r2)\n",
        "  b.append(i)\n",
        "lines = plt.plot(np.array(b),np.array(a))\n",
        "plt.ylabel(\"r2\")\n",
        "plt.xlabel(\"n_components\")"
      ],
      "execution_count": null,
      "outputs": [
        {
          "output_type": "stream",
          "text": [
            "-0.9144899804761455\n",
            "0.352704356715678\n",
            "-0.02415951947061523\n",
            "-0.10143510781063303\n",
            "-0.09455878868190926\n",
            "-0.25117061932359275\n"
          ],
          "name": "stdout"
        },
        {
          "output_type": "execute_result",
          "data": {
            "text/plain": [
              "Text(0.5, 0, 'n_components')"
            ]
          },
          "metadata": {
            "tags": []
          },
          "execution_count": 31
        },
        {
          "output_type": "display_data",
          "data": {
            "image/png": "[encoded data removed]",
            "text/plain": [
              "<Figure size 432x288 with 1 Axes>"
            ]
          },
          "metadata": {
            "tags": [],
            "needs_background": "light"
          }
        }
      ]
    },
    {
      "cell_type": "code",
      "metadata": {
        "colab": {
          "base_uri": "https://localhost:8080/"
        },
        "id": "D9XwbWkiwdcF",
        "outputId": "3711eeae-55d8-4e27-ea07-d0c9007d70dd"
      },
      "source": [
        "#儲存模型\n",
        "from sklearn.externals import joblib\n",
        "joblib.dump(pls , \"PLSRegression.h5\")"
      ],
      "execution_count": null,
      "outputs": [
        {
          "output_type": "execute_result",
          "data": {
            "text/plain": [
              "['PLSRegression.h5']"
            ]
          },
          "metadata": {
            "tags": []
          },
          "execution_count": 18
        }
      ]
    },
    {
      "cell_type": "code",
      "metadata": {
        "colab": {
          "base_uri": "https://localhost:8080/"
        },
        "id": "XCtPFhedNFF2",
        "outputId": "70ec6a13-c8c9-48b0-b264-2dc6a4aca36b"
      },
      "source": [
        "#svr回歸\n",
        "from sklearn.svm import SVR\n",
        "from sklearn.model_selection import cross_val_score\n",
        "import numpy as np\n",
        "\n",
        " \n",
        "# 使用线性核函数配置的支持向量机进行回归训练，并且对测试样本进行预测。\n",
        "linear_svr = SVR(kernel='linear')\n",
        "\n",
        "# 使用多项式核函数配置的支持向量机进行回归训练，并且对测试样本进行预测。\n",
        "poly_svr = SVR(kernel='poly')\n",
        "\n",
        " \n",
        "# 使用径向基核函数配置的支持向量机进行回归训练，并且对测试样本进行预测。\n",
        "rbf_svr = SVR(kernel='rbf')\n",
        "\n",
        "#scoring=\"r2\",\"neg_mean_absolute_error\",\"neg_mean_squared_error\"\n",
        "scores = cross_val_score(linear_svr, np.array(x_scale), np.array(y), cv=10, scoring=\"r2\") \n",
        "print(scores)\n",
        "print(np.average(scores))\n",
        "scores = cross_val_score(linear_svr, np.array(x_scale), np.array(y), cv=10, scoring=\"neg_mean_squared_error\") \n",
        "print(scores)\n",
        "print(np.average(scores))\n",
        "\n",
        "rbf_svr.fit(x_scale,y)\n",
        "tx_scale = scaler.transform(tx)\n",
        "pre = rbf_svr.predict(tx_scale)\n",
        "print(pre)\n",
        "ty[\"bfp\"] - pre"
      ],
      "execution_count": null,
      "outputs": [
        {
          "output_type": "stream",
          "text": [
            "[0.32334378 0.84800245 0.69067837 0.42643149 0.06386431 0.48451766\n",
            " 0.65351145 0.60543278 0.65768805 0.75632182]\n",
            "0.5509792152899524\n",
            "[-25.04100066 -16.21339667 -16.42471135 -20.4407521  -15.37245646\n",
            " -19.46353024 -13.92130835 -21.01610651 -30.72315714 -12.45518697]\n",
            "-19.107160644940347\n",
            "[16.3621712  17.96137995 14.27980076 22.06353527 16.82148812 17.43438253\n",
            " 15.91924762 20.84115717 14.02100347 18.1878628 ]\n"
          ],
          "name": "stdout"
        },
        {
          "output_type": "stream",
          "text": [
            "/usr/local/lib/python3.7/dist-packages/sklearn/utils/validation.py:760: DataConversionWarning: A column-vector y was passed when a 1d array was expected. Please change the shape of y to (n_samples, ), for example using ravel().\n",
            "  y = column_or_1d(y, warn=True)\n",
            "/usr/local/lib/python3.7/dist-packages/sklearn/utils/validation.py:760: DataConversionWarning: A column-vector y was passed when a 1d array was expected. Please change the shape of y to (n_samples, ), for example using ravel().\n",
            "  y = column_or_1d(y, warn=True)\n",
            "/usr/local/lib/python3.7/dist-packages/sklearn/utils/validation.py:760: DataConversionWarning: A column-vector y was passed when a 1d array was expected. Please change the shape of y to (n_samples, ), for example using ravel().\n",
            "  y = column_or_1d(y, warn=True)\n",
            "/usr/local/lib/python3.7/dist-packages/sklearn/utils/validation.py:760: DataConversionWarning: A column-vector y was passed when a 1d array was expected. Please change the shape of y to (n_samples, ), for example using ravel().\n",
            "  y = column_or_1d(y, warn=True)\n",
            "/usr/local/lib/python3.7/dist-packages/sklearn/utils/validation.py:760: DataConversionWarning: A column-vector y was passed when a 1d array was expected. Please change the shape of y to (n_samples, ), for example using ravel().\n",
            "  y = column_or_1d(y, warn=True)\n",
            "/usr/local/lib/python3.7/dist-packages/sklearn/utils/validation.py:760: DataConversionWarning: A column-vector y was passed when a 1d array was expected. Please change the shape of y to (n_samples, ), for example using ravel().\n",
            "  y = column_or_1d(y, warn=True)\n",
            "/usr/local/lib/python3.7/dist-packages/sklearn/utils/validation.py:760: DataConversionWarning: A column-vector y was passed when a 1d array was expected. Please change the shape of y to (n_samples, ), for example using ravel().\n",
            "  y = column_or_1d(y, warn=True)\n",
            "/usr/local/lib/python3.7/dist-packages/sklearn/utils/validation.py:760: DataConversionWarning: A column-vector y was passed when a 1d array was expected. Please change the shape of y to (n_samples, ), for example using ravel().\n",
            "  y = column_or_1d(y, warn=True)\n",
            "/usr/local/lib/python3.7/dist-packages/sklearn/utils/validation.py:760: DataConversionWarning: A column-vector y was passed when a 1d array was expected. Please change the shape of y to (n_samples, ), for example using ravel().\n",
            "  y = column_or_1d(y, warn=True)\n",
            "/usr/local/lib/python3.7/dist-packages/sklearn/utils/validation.py:760: DataConversionWarning: A column-vector y was passed when a 1d array was expected. Please change the shape of y to (n_samples, ), for example using ravel().\n",
            "  y = column_or_1d(y, warn=True)\n",
            "/usr/local/lib/python3.7/dist-packages/sklearn/utils/validation.py:760: DataConversionWarning: A column-vector y was passed when a 1d array was expected. Please change the shape of y to (n_samples, ), for example using ravel().\n",
            "  y = column_or_1d(y, warn=True)\n",
            "/usr/local/lib/python3.7/dist-packages/sklearn/utils/validation.py:760: DataConversionWarning: A column-vector y was passed when a 1d array was expected. Please change the shape of y to (n_samples, ), for example using ravel().\n",
            "  y = column_or_1d(y, warn=True)\n",
            "/usr/local/lib/python3.7/dist-packages/sklearn/utils/validation.py:760: DataConversionWarning: A column-vector y was passed when a 1d array was expected. Please change the shape of y to (n_samples, ), for example using ravel().\n",
            "  y = column_or_1d(y, warn=True)\n",
            "/usr/local/lib/python3.7/dist-packages/sklearn/utils/validation.py:760: DataConversionWarning: A column-vector y was passed when a 1d array was expected. Please change the shape of y to (n_samples, ), for example using ravel().\n",
            "  y = column_or_1d(y, warn=True)\n",
            "/usr/local/lib/python3.7/dist-packages/sklearn/utils/validation.py:760: DataConversionWarning: A column-vector y was passed when a 1d array was expected. Please change the shape of y to (n_samples, ), for example using ravel().\n",
            "  y = column_or_1d(y, warn=True)\n",
            "/usr/local/lib/python3.7/dist-packages/sklearn/utils/validation.py:760: DataConversionWarning: A column-vector y was passed when a 1d array was expected. Please change the shape of y to (n_samples, ), for example using ravel().\n",
            "  y = column_or_1d(y, warn=True)\n",
            "/usr/local/lib/python3.7/dist-packages/sklearn/utils/validation.py:760: DataConversionWarning: A column-vector y was passed when a 1d array was expected. Please change the shape of y to (n_samples, ), for example using ravel().\n",
            "  y = column_or_1d(y, warn=True)\n",
            "/usr/local/lib/python3.7/dist-packages/sklearn/utils/validation.py:760: DataConversionWarning: A column-vector y was passed when a 1d array was expected. Please change the shape of y to (n_samples, ), for example using ravel().\n",
            "  y = column_or_1d(y, warn=True)\n",
            "/usr/local/lib/python3.7/dist-packages/sklearn/utils/validation.py:760: DataConversionWarning: A column-vector y was passed when a 1d array was expected. Please change the shape of y to (n_samples, ), for example using ravel().\n",
            "  y = column_or_1d(y, warn=True)\n",
            "/usr/local/lib/python3.7/dist-packages/sklearn/utils/validation.py:760: DataConversionWarning: A column-vector y was passed when a 1d array was expected. Please change the shape of y to (n_samples, ), for example using ravel().\n",
            "  y = column_or_1d(y, warn=True)\n",
            "/usr/local/lib/python3.7/dist-packages/sklearn/utils/validation.py:760: DataConversionWarning: A column-vector y was passed when a 1d array was expected. Please change the shape of y to (n_samples, ), for example using ravel().\n",
            "  y = column_or_1d(y, warn=True)\n"
          ],
          "name": "stderr"
        },
        {
          "output_type": "execute_result",
          "data": {
            "text/plain": [
              "404     6.237829\n",
              "405    -6.061380\n",
              "406     0.020199\n",
              "407     4.036465\n",
              "408     4.278512\n",
              "410     4.465617\n",
              "414     5.280752\n",
              "417    11.158843\n",
              "418     3.178997\n",
              "419    -8.987863\n",
              "Name: bfp, dtype: float64"
            ]
          },
          "metadata": {
            "tags": []
          },
          "execution_count": 8
        }
      ]
    },
    {
      "cell_type": "code",
      "metadata": {
        "colab": {
          "base_uri": "https://localhost:8080/"
        },
        "id": "vdPB_jPXm_M8",
        "outputId": "686aa4b1-7551-478f-dc42-053b052de13f"
      },
      "source": [
        "from sklearn.linear_model import LassoCV, RidgeCV, ElasticNetCV\n",
        "from sklearn.linear_model import Lasso, Ridge, ElasticNet\n",
        "from scipy.special import inv_boxcox1p\n",
        "cv = LassoCV(cv=10)\n",
        "cv.fit(x_scale, y)\n",
        "print(cv.alpha_)\n",
        "model =Lasso(alpha = cv.alpha_ )\n",
        "\n",
        "\n",
        "scores = cross_val_score(model, np.array(x_scale), np.array(y), cv=10, scoring=\"r2\") \n",
        "print(scores)\n",
        "print(np.average(scores))\n",
        "scores = cross_val_score(model, np.array(x_scale), np.array(y), cv=10, scoring=\"neg_mean_squared_error\") \n",
        "print(scores)\n",
        "print(np.average(scores))\n",
        "\n",
        "pre = model.predict(tx_scale)\n",
        "pre - ty"
      ],
      "execution_count": null,
      "outputs": [
        {
          "output_type": "stream",
          "text": [
            "0.01046747121967847\n",
            "[0.53123421 0.85624501 0.74129232 0.55838621 0.01874733 0.53295262\n",
            " 0.71537254 0.70889429 0.69769769 0.73732233]\n",
            "0.6098144544968431\n",
            "[-17.34760439 -15.33417206 -13.73715434 -15.73816861 -16.11333061\n",
            " -17.63472811 -11.43583734 -15.5053648  -27.13221453 -13.42631322]\n",
            "-16.340488800358607\n"
          ],
          "name": "stdout"
        },
        {
          "output_type": "stream",
          "text": [
            "/usr/local/lib/python3.7/dist-packages/sklearn/linear_model/_coordinate_descent.py:1088: DataConversionWarning: A column-vector y was passed when a 1d array was expected. Please change the shape of y to (n_samples, ), for example using ravel().\n",
            "  y = column_or_1d(y, warn=True)\n"
          ],
          "name": "stderr"
        }
      ]
    },
    {
      "cell_type": "code",
      "metadata": {
        "colab": {
          "base_uri": "https://localhost:8080/"
        },
        "id": "Z9aiBm4In7i8",
        "outputId": "56734f21-0973-476f-df15-7651e0103fc2"
      },
      "source": [
        "from sklearn.linear_model import LassoCV, RidgeCV, ElasticNetCV\n",
        "from sklearn.linear_model import Lasso, Ridge, ElasticNet\n",
        "from scipy.special import inv_boxcox1p\n",
        "cv = RidgeCV(cv=10)\n",
        "cv.fit(x_scale, y)\n",
        "print(cv.alpha_)\n",
        "model =Ridge(alpha = cv.alpha_ )\n",
        "\n",
        "\n",
        "scores = cross_val_score(model, np.array(x_scale), np.array(y), cv=10, scoring=\"r2\") \n",
        "print(scores)\n",
        "print(np.average(scores))\n",
        "scores = cross_val_score(model, np.array(x_scale), np.array(y), cv=10, scoring=\"neg_mean_squared_error\") \n",
        "print(scores)\n",
        "print(np.average(scores))\n",
        "\n",
        "# model.fit(x_scale,y)\n",
        "# tx_scale = scaler.transform(tx)\n",
        "# pre = model.predict(tx_scale)\n",
        "# tx[\"bfp\"] = ty[\"bfp\"]\n",
        "# tx[\"pre\"] = pre\n",
        "# tx[\"pre-bfp\"] = (pre - ty)\n",
        "\n",
        "# print(tx)"
      ],
      "execution_count": null,
      "outputs": [
        {
          "output_type": "stream",
          "text": [
            "0.1\n",
            "[0.53358282 0.85632396 0.73813728 0.55484858 0.00958776 0.53785808\n",
            " 0.72161731 0.70536315 0.69832406 0.73502971]\n",
            "0.6090672699360264\n",
            "[-17.26068945 -15.32575081 -13.90468405 -15.86424234 -16.26374168\n",
            " -17.44950816 -11.18493323 -15.69344629 -27.07599697 -13.5434964 ]\n",
            "-16.356648937851393\n"
          ],
          "name": "stdout"
        }
      ]
    },
    {
      "cell_type": "code",
      "metadata": {
        "colab": {
          "base_uri": "https://localhost:8080/"
        },
        "id": "O-wRJqd6nLCh",
        "outputId": "0f4df30a-b447-48ee-e819-3907c19eb8b0"
      },
      "source": [
        "from sklearn.linear_model import LassoCV, RidgeCV, ElasticNetCV\n",
        "from sklearn.linear_model import Lasso, Ridge, ElasticNet\n",
        "from scipy.special import inv_boxcox1p\n",
        "cv = ElasticNetCV(cv=10)\n",
        "cv.fit(x_scale, y)\n",
        "print(cv.alpha_)\n",
        "model = ElasticNet(alpha = cv.alpha_ )\n",
        "\n",
        "\n",
        "scores = cross_val_score(model, np.array(x_scale), np.array(y), cv=10, scoring=\"r2\") \n",
        "print(scores)\n",
        "print(np.average(scores))\n",
        "scores = cross_val_score(model, np.array(x_scale), np.array(y), cv=10, scoring=\"neg_mean_squared_error\") \n",
        "print(scores)\n",
        "print(np.average(scores))"
      ],
      "execution_count": null,
      "outputs": [
        {
          "output_type": "stream",
          "text": [
            "0.004206317725595558\n",
            "[0.50744433 0.85853775 0.73462291 0.54393156 0.06342829 0.53493993\n",
            " 0.71321742 0.69366833 0.69123203 0.7464372 ]\n",
            "0.6087459763866871\n",
            "[-18.22799579 -15.08960817 -14.09129403 -16.25330122 -15.37961637\n",
            " -17.55969141 -11.52242613 -16.31635554 -27.71251999 -12.96042237]\n",
            "-16.5113231022702\n"
          ],
          "name": "stdout"
        },
        {
          "output_type": "stream",
          "text": [
            "/usr/local/lib/python3.7/dist-packages/sklearn/linear_model/_coordinate_descent.py:1088: DataConversionWarning: A column-vector y was passed when a 1d array was expected. Please change the shape of y to (n_samples, ), for example using ravel().\n",
            "  y = column_or_1d(y, warn=True)\n"
          ],
          "name": "stderr"
        }
      ]
    },
    {
      "cell_type": "code",
      "metadata": {
        "colab": {
          "base_uri": "https://localhost:8080/",
          "height": 390
        },
        "id": "DKzkVlozi9tY",
        "outputId": "7bdf330a-8743-41f7-8bd0-8aa6b0668952"
      },
      "source": [
        "import numpy as np\n",
        "from scipy.stats import skew\n",
        "from scipy.stats import boxcox_normmax\n",
        "from scipy.special import boxcox1p, log1p\n",
        "\n",
        "import matplotlib.pyplot as plt\n",
        "import seaborn as sns\n",
        "%matplotlib inline\n",
        "y = y[\"bfp\"]\n",
        "lamda = boxcox_normmax(1 + y)\n",
        "print(\"skew:\", skew(y+1))\n",
        "print(\"lambda:\", lamda)\n",
        "sns.distplot(y)\n"
      ],
      "execution_count": null,
      "outputs": [
        {
          "output_type": "stream",
          "text": [
            "skew: 0.2555293674860277\n",
            "lambda: 0.6806000806457337\n"
          ],
          "name": "stdout"
        },
        {
          "output_type": "stream",
          "text": [
            "/usr/local/lib/python3.7/dist-packages/seaborn/distributions.py:2557: FutureWarning: `distplot` is a deprecated function and will be removed in a future version. Please adapt your code to use either `displot` (a figure-level function with similar flexibility) or `histplot` (an axes-level function for histograms).\n",
            "  warnings.warn(msg, FutureWarning)\n"
          ],
          "name": "stderr"
        },
        {
          "output_type": "execute_result",
          "data": {
            "text/plain": [
              "<matplotlib.axes._subplots.AxesSubplot at 0x7f86fd009110>"
            ]
          },
          "metadata": {
            "tags": []
          },
          "execution_count": 5
        },
        {
          "output_type": "display_data",
          "data": {
            "image/png": "[encoded data removed]",
            "text/plain": [
              "<Figure size 432x288 with 1 Axes>"
            ]
          },
          "metadata": {
            "tags": [],
            "needs_background": "light"
          }
        }
      ]
    },
    {
      "cell_type": "code",
      "metadata": {
        "colab": {
          "base_uri": "https://localhost:8080/",
          "height": 372
        },
        "id": "HBDSKeNrjGUz",
        "outputId": "51c28191-dabe-4f08-e3c2-b60b1b5ae4a7"
      },
      "source": [
        "y_trains = boxcox1p(y, lamda)\n",
        "print(\"after boxcox:\", skew(y_trains))\n",
        "sns.distplot(y_trains)"
      ],
      "execution_count": null,
      "outputs": [
        {
          "output_type": "stream",
          "text": [
            "after boxcox: -0.00529538896966427\n"
          ],
          "name": "stdout"
        },
        {
          "output_type": "stream",
          "text": [
            "/usr/local/lib/python3.7/dist-packages/seaborn/distributions.py:2557: FutureWarning: `distplot` is a deprecated function and will be removed in a future version. Please adapt your code to use either `displot` (a figure-level function with similar flexibility) or `histplot` (an axes-level function for histograms).\n",
            "  warnings.warn(msg, FutureWarning)\n"
          ],
          "name": "stderr"
        },
        {
          "output_type": "execute_result",
          "data": {
            "text/plain": [
              "<matplotlib.axes._subplots.AxesSubplot at 0x7f870f79ec10>"
            ]
          },
          "metadata": {
            "tags": []
          },
          "execution_count": 6
        },
        {
          "output_type": "display_data",
          "data": {
            "image/png": "[encoded data removed]",
            "text/plain": [
              "<Figure size 432x288 with 1 Axes>"
            ]
          },
          "metadata": {
            "tags": [],
            "needs_background": "light"
          }
        }
      ]
    },
    {
      "cell_type": "code",
      "metadata": {
        "colab": {
          "base_uri": "https://localhost:8080/",
          "height": 354
        },
        "id": "Tb4kBKmaaAN7",
        "outputId": "ceeda745-d679-4784-eae4-31107f9947b0"
      },
      "source": [
        "import numpy as np\n",
        "from scipy.stats import skew\n",
        "from scipy.stats import boxcox_normmax\n",
        "from scipy.special import boxcox1p, log1p\n",
        "\n",
        "import matplotlib.pyplot as plt\n",
        "import seaborn as sns\n",
        "%matplotlib inline\n",
        "d = x[\"hips\"]\n",
        "\n",
        "sns.distplot(d)"
      ],
      "execution_count": null,
      "outputs": [
        {
          "output_type": "stream",
          "text": [
            "/usr/local/lib/python3.7/dist-packages/seaborn/distributions.py:2557: FutureWarning: `distplot` is a deprecated function and will be removed in a future version. Please adapt your code to use either `displot` (a figure-level function with similar flexibility) or `histplot` (an axes-level function for histograms).\n",
            "  warnings.warn(msg, FutureWarning)\n"
          ],
          "name": "stderr"
        },
        {
          "output_type": "execute_result",
          "data": {
            "text/plain": [
              "<matplotlib.axes._subplots.AxesSubplot at 0x7fe9ef4c7610>"
            ]
          },
          "metadata": {
            "tags": []
          },
          "execution_count": 70
        },
        {
          "output_type": "display_data",
          "data": {
            "image/png": "[encoded data removed]",
            "text/plain": [
              "<Figure size 432x288 with 1 Axes>"
            ]
          },
          "metadata": {
            "tags": [],
            "needs_background": "light"
          }
        }
      ]
    },
    {
      "cell_type": "code",
      "metadata": {
        "colab": {
          "base_uri": "https://localhost:8080/"
        },
        "id": "XflYPm3xjHCq",
        "outputId": "d7dba8cf-f824-4a9b-9d4b-ef450c862e4d"
      },
      "source": [
        "\n",
        "def getskew(series):\n",
        "    return skew(series.dropna()+1)\n",
        "\n",
        "skewness = (x[x.keys()].apply(getskew)\n",
        "                  .sort_values(ascending=False))\n",
        "# .sort_values排序\n",
        "need_saved = skewness.index\n",
        "print(skewness)\n",
        "print(need_saved)"
      ],
      "execution_count": null,
      "outputs": [
        {
          "output_type": "stream",
          "text": [
            "bmi       0.702531\n",
            "hips      0.522841\n",
            "chest     0.492628\n",
            "waist     0.440298\n",
            "weight    0.380316\n",
            "age       0.260781\n",
            "height    0.118854\n",
            "dtype: float64\n",
            "Index(['bmi', 'hips', 'chest', 'waist', 'weight', 'age', 'height'], dtype='object')\n"
          ],
          "name": "stdout"
        }
      ]
    },
    {
      "cell_type": "code",
      "metadata": {
        "colab": {
          "base_uri": "https://localhost:8080/"
        },
        "id": "s7xtwBJljOZH",
        "outputId": "15accede-98ab-480c-90ce-ae362372c4ad"
      },
      "source": [
        "def rlamda(s):\n",
        "  lamda = boxcox_normmax(s.dropna() + 1)\n",
        "  return (lamda)\n",
        "realamda = x[need_saved].apply(rlamda)\n",
        "realamda = realamda.to_dict()\n",
        "print(realamda)"
      ],
      "execution_count": null,
      "outputs": [
        {
          "output_type": "stream",
          "text": [
            "{'bmi': -0.8468706490917524, 'hips': -1.5865212458057332, 'chest': -1.1353612425564783, 'waist': -0.5853777229894735, 'weight': -0.05035138927949351, 'age': 0.6053179303907976, 'height': -0.3989086937654337}\n"
          ],
          "name": "stdout"
        },
        {
          "output_type": "stream",
          "text": [
            "/usr/local/lib/python3.7/dist-packages/scipy/stats/stats.py:3508: PearsonRConstantInputWarning: An input array is constant; the correlation coefficent is not defined.\n",
            "  warnings.warn(PearsonRConstantInputWarning())\n",
            "/usr/local/lib/python3.7/dist-packages/scipy/stats/stats.py:3538: PearsonRNearConstantInputWarning: An input array is nearly constant; the computed correlation coefficent may be inaccurate.\n",
            "  warnings.warn(PearsonRNearConstantInputWarning())\n"
          ],
          "name": "stderr"
        }
      ]
    },
    {
      "cell_type": "code",
      "metadata": {
        "colab": {
          "base_uri": "https://localhost:8080/"
        },
        "id": "MAbxOgXKjPJm",
        "outputId": "adb200ff-09a9-4520-d066-ffdfadb675a2"
      },
      "source": [
        "def save(s):\n",
        "    lamda = boxcox_normmax(s.dropna() + 1)\n",
        "    return boxcox1p(s, lamda)\n",
        "x[need_saved] = x[need_saved].apply(save)\n",
        "skewness = (x[x.keys()].apply(getskew)\n",
        "                  .sort_values(ascending=False))\n",
        "\n",
        "skewness"
      ],
      "execution_count": null,
      "outputs": [
        {
          "output_type": "stream",
          "text": [
            "/usr/local/lib/python3.7/dist-packages/scipy/stats/stats.py:3508: PearsonRConstantInputWarning: An input array is constant; the correlation coefficent is not defined.\n",
            "  warnings.warn(PearsonRConstantInputWarning())\n",
            "/usr/local/lib/python3.7/dist-packages/scipy/stats/stats.py:3538: PearsonRNearConstantInputWarning: An input array is nearly constant; the computed correlation coefficent may be inaccurate.\n",
            "  warnings.warn(PearsonRNearConstantInputWarning())\n"
          ],
          "name": "stderr"
        },
        {
          "output_type": "execute_result",
          "data": {
            "text/plain": [
              "age       0.022015\n",
              "chest     0.010569\n",
              "waist     0.003500\n",
              "height   -0.001871\n",
              "weight   -0.002241\n",
              "bmi      -0.008526\n",
              "hips     -0.013096\n",
              "dtype: float64"
            ]
          },
          "metadata": {
            "tags": []
          },
          "execution_count": 9
        }
      ]
    },
    {
      "cell_type": "code",
      "metadata": {
        "colab": {
          "base_uri": "https://localhost:8080/",
          "height": 422
        },
        "id": "zQYfMHj-jSNW",
        "outputId": "25fc19e1-d97f-48f3-9889-06a8f29ace9a"
      },
      "source": [
        "from sklearn.preprocessing import MinMaxScaler\n",
        "scaler = MinMaxScaler(feature_range=(-1,1))\n",
        "scaler.fit(x)\n",
        "x_norm = pd.DataFrame(scaler.transform(x),\n",
        "              columns=x.columns)\n",
        "\n",
        "x_norm\n"
      ],
      "execution_count": null,
      "outputs": [
        {
          "output_type": "execute_result",
          "data": {
            "text/html": [
              "<div>\n",
              "<style scoped>\n",
              "    .dataframe tbody tr th:only-of-type {\n",
              "        vertical-align: middle;\n",
              "    }\n",
              "\n",
              "    .dataframe tbody tr th {\n",
              "        vertical-align: top;\n",
              "    }\n",
              "\n",
              "    .dataframe thead th {\n",
              "        text-align: right;\n",
              "    }\n",
              "</style>\n",
              "<table border=\"1\" class=\"dataframe\">\n",
              "  <thead>\n",
              "    <tr style=\"text-align: right;\">\n",
              "      <th></th>\n",
              "      <th>age</th>\n",
              "      <th>height</th>\n",
              "      <th>weight</th>\n",
              "      <th>waist</th>\n",
              "      <th>chest</th>\n",
              "      <th>hips</th>\n",
              "      <th>bmi</th>\n",
              "    </tr>\n",
              "  </thead>\n",
              "  <tbody>\n",
              "    <tr>\n",
              "      <th>0</th>\n",
              "      <td>-0.954954</td>\n",
              "      <td>-0.400153</td>\n",
              "      <td>-0.331786</td>\n",
              "      <td>-0.236259</td>\n",
              "      <td>-0.211118</td>\n",
              "      <td>-0.332000</td>\n",
              "      <td>-0.161972</td>\n",
              "    </tr>\n",
              "    <tr>\n",
              "      <th>1</th>\n",
              "      <td>-1.000000</td>\n",
              "      <td>0.261587</td>\n",
              "      <td>-0.039556</td>\n",
              "      <td>-0.328811</td>\n",
              "      <td>-0.187131</td>\n",
              "      <td>-0.088203</td>\n",
              "      <td>-0.196766</td>\n",
              "    </tr>\n",
              "    <tr>\n",
              "      <th>2</th>\n",
              "      <td>-1.000000</td>\n",
              "      <td>-0.634435</td>\n",
              "      <td>-0.335399</td>\n",
              "      <td>-0.127665</td>\n",
              "      <td>-0.084727</td>\n",
              "      <td>-0.060931</td>\n",
              "      <td>-0.043269</td>\n",
              "    </tr>\n",
              "    <tr>\n",
              "      <th>3</th>\n",
              "      <td>-0.824067</td>\n",
              "      <td>0.261587</td>\n",
              "      <td>0.121466</td>\n",
              "      <td>-0.187338</td>\n",
              "      <td>0.170847</td>\n",
              "      <td>0.044720</td>\n",
              "      <td>-0.020568</td>\n",
              "    </tr>\n",
              "    <tr>\n",
              "      <th>4</th>\n",
              "      <td>-0.910643</td>\n",
              "      <td>0.121450</td>\n",
              "      <td>0.115467</td>\n",
              "      <td>0.301375</td>\n",
              "      <td>-0.017708</td>\n",
              "      <td>0.080448</td>\n",
              "      <td>0.045977</td>\n",
              "    </tr>\n",
              "    <tr>\n",
              "      <th>...</th>\n",
              "      <td>...</td>\n",
              "      <td>...</td>\n",
              "      <td>...</td>\n",
              "      <td>...</td>\n",
              "      <td>...</td>\n",
              "      <td>...</td>\n",
              "      <td>...</td>\n",
              "    </tr>\n",
              "    <tr>\n",
              "      <th>240</th>\n",
              "      <td>0.688882</td>\n",
              "      <td>-0.516385</td>\n",
              "      <td>-0.684583</td>\n",
              "      <td>-0.303191</td>\n",
              "      <td>-0.407982</td>\n",
              "      <td>-0.710831</td>\n",
              "      <td>-0.503993</td>\n",
              "    </tr>\n",
              "    <tr>\n",
              "      <th>241</th>\n",
              "      <td>0.746793</td>\n",
              "      <td>-0.096795</td>\n",
              "      <td>0.333566</td>\n",
              "      <td>0.455646</td>\n",
              "      <td>0.421043</td>\n",
              "      <td>0.207811</td>\n",
              "      <td>0.369946</td>\n",
              "    </tr>\n",
              "    <tr>\n",
              "      <th>242</th>\n",
              "      <td>0.746793</td>\n",
              "      <td>-0.678395</td>\n",
              "      <td>0.148279</td>\n",
              "      <td>0.639761</td>\n",
              "      <td>0.509555</td>\n",
              "      <td>0.070304</td>\n",
              "      <td>0.457725</td>\n",
              "    </tr>\n",
              "    <tr>\n",
              "      <th>243</th>\n",
              "      <td>0.746793</td>\n",
              "      <td>0.013133</td>\n",
              "      <td>0.201030</td>\n",
              "      <td>0.342634</td>\n",
              "      <td>0.414048</td>\n",
              "      <td>-0.138194</td>\n",
              "      <td>0.188158</td>\n",
              "    </tr>\n",
              "    <tr>\n",
              "      <th>244</th>\n",
              "      <td>0.804080</td>\n",
              "      <td>-0.061904</td>\n",
              "      <td>0.411850</td>\n",
              "      <td>0.556939</td>\n",
              "      <td>0.552187</td>\n",
              "      <td>0.327306</td>\n",
              "      <td>0.427750</td>\n",
              "    </tr>\n",
              "  </tbody>\n",
              "</table>\n",
              "<p>245 rows × 7 columns</p>\n",
              "</div>"
            ],
            "text/plain": [
              "          age    height    weight     waist     chest      hips       bmi\n",
              "0   -0.954954 -0.400153 -0.331786 -0.236259 -0.211118 -0.332000 -0.161972\n",
              "1   -1.000000  0.261587 -0.039556 -0.328811 -0.187131 -0.088203 -0.196766\n",
              "2   -1.000000 -0.634435 -0.335399 -0.127665 -0.084727 -0.060931 -0.043269\n",
              "3   -0.824067  0.261587  0.121466 -0.187338  0.170847  0.044720 -0.020568\n",
              "4   -0.910643  0.121450  0.115467  0.301375 -0.017708  0.080448  0.045977\n",
              "..        ...       ...       ...       ...       ...       ...       ...\n",
              "240  0.688882 -0.516385 -0.684583 -0.303191 -0.407982 -0.710831 -0.503993\n",
              "241  0.746793 -0.096795  0.333566  0.455646  0.421043  0.207811  0.369946\n",
              "242  0.746793 -0.678395  0.148279  0.639761  0.509555  0.070304  0.457725\n",
              "243  0.746793  0.013133  0.201030  0.342634  0.414048 -0.138194  0.188158\n",
              "244  0.804080 -0.061904  0.411850  0.556939  0.552187  0.327306  0.427750\n",
              "\n",
              "[245 rows x 7 columns]"
            ]
          },
          "metadata": {
            "tags": []
          },
          "execution_count": 19
        }
      ]
    },
    {
      "cell_type": "code",
      "metadata": {
        "colab": {
          "base_uri": "https://localhost:8080/",
          "height": 395
        },
        "id": "1v1br8fLjWlZ",
        "outputId": "b0486796-2f7a-400c-87d6-6f4a015b3505"
      },
      "source": [
        "from sklearn.linear_model import LassoCV, RidgeCV, ElasticNetCV\n",
        "from sklearn.linear_model import Lasso, Ridge, ElasticNet\n",
        "from scipy.special import inv_boxcox1p\n",
        "cv = RidgeCV(cv=10)\n",
        "cv.fit(x_norm, y_trains)\n",
        "print(cv.alpha_)\n",
        "model =Ridge(alpha = cv.alpha_ )\n",
        "\n",
        "\n",
        "scores = cross_val_score(model, np.array(x_norm), np.array(y_trains), cv=10, scoring=\"r2\") \n",
        "print(scores)\n",
        "print(np.average(scores))\n",
        "scores = cross_val_score(model, np.array(x_norm), np.array(y_trains), cv=10, scoring=\"neg_mean_squared_error\") \n",
        "print(scores)\n",
        "print(np.average(scores))\n",
        "\n",
        "\n",
        "\n",
        "\n",
        "\n",
        "\n",
        "for i in realamda.keys():\n",
        "  x[i]= inv_boxcox1p(x[i],realamda[i])\n",
        "\n",
        "model.fit(x_norm, y_trains)\n",
        "pre = model.predict(x_norm)\n",
        "pre = inv_boxcox1p(pre, lamda)\n",
        "\n",
        "coeffecients = pd.DataFrame(model.coef_,x.columns) \n",
        "coeffecients.columns = ['Coeffecient'] \n",
        "coeffecients[\"%\"] = coeffecients['Coeffecient'].abs()/(coeffecients['Coeffecient'].abs().sum())*100\n",
        "coeffecients\n"
      ],
      "execution_count": null,
      "outputs": [
        {
          "output_type": "stream",
          "text": [
            "0.1\n",
            "[ 0.48770178  0.83542322  0.73884942  0.56747063 -0.02910818  0.5498861\n",
            "  0.67970087  0.68580561  0.65730691  0.74532927]\n",
            "0.5918365616375697\n",
            "[-3.19796339 -2.61979834 -2.11023139 -2.39805091 -2.38772425 -2.71794994\n",
            " -1.8435601  -2.60147171 -4.28869076 -1.7944734 ]\n",
            "-2.5959914173245524\n"
          ],
          "name": "stdout"
        },
        {
          "output_type": "execute_result",
          "data": {
            "text/html": [
              "<div>\n",
              "<style scoped>\n",
              "    .dataframe tbody tr th:only-of-type {\n",
              "        vertical-align: middle;\n",
              "    }\n",
              "\n",
              "    .dataframe tbody tr th {\n",
              "        vertical-align: top;\n",
              "    }\n",
              "\n",
              "    .dataframe thead th {\n",
              "        text-align: right;\n",
              "    }\n",
              "</style>\n",
              "<table border=\"1\" class=\"dataframe\">\n",
              "  <thead>\n",
              "    <tr style=\"text-align: right;\">\n",
              "      <th></th>\n",
              "      <th>Coeffecient</th>\n",
              "      <th>%</th>\n",
              "    </tr>\n",
              "  </thead>\n",
              "  <tbody>\n",
              "    <tr>\n",
              "      <th>age</th>\n",
              "      <td>0.032950</td>\n",
              "      <td>0.272974</td>\n",
              "    </tr>\n",
              "    <tr>\n",
              "      <th>height</th>\n",
              "      <td>-1.456471</td>\n",
              "      <td>12.066191</td>\n",
              "    </tr>\n",
              "    <tr>\n",
              "      <th>weight</th>\n",
              "      <td>-0.356588</td>\n",
              "      <td>2.954166</td>\n",
              "    </tr>\n",
              "    <tr>\n",
              "      <th>waist</th>\n",
              "      <td>8.416469</td>\n",
              "      <td>69.726554</td>\n",
              "    </tr>\n",
              "    <tr>\n",
              "      <th>chest</th>\n",
              "      <td>-1.500438</td>\n",
              "      <td>12.430430</td>\n",
              "    </tr>\n",
              "    <tr>\n",
              "      <th>hips</th>\n",
              "      <td>-0.180321</td>\n",
              "      <td>1.493874</td>\n",
              "    </tr>\n",
              "    <tr>\n",
              "      <th>bmi</th>\n",
              "      <td>-0.127444</td>\n",
              "      <td>1.055811</td>\n",
              "    </tr>\n",
              "  </tbody>\n",
              "</table>\n",
              "</div>"
            ],
            "text/plain": [
              "        Coeffecient          %\n",
              "age        0.032950   0.272974\n",
              "height    -1.456471  12.066191\n",
              "weight    -0.356588   2.954166\n",
              "waist      8.416469  69.726554\n",
              "chest     -1.500438  12.430430\n",
              "hips      -0.180321   1.493874\n",
              "bmi       -0.127444   1.055811"
            ]
          },
          "metadata": {
            "tags": []
          },
          "execution_count": 24
        }
      ]
    },
    {
      "cell_type": "code",
      "metadata": {
        "id": "H7Cz6ogyLyE2"
      },
      "source": [
        "x[\"bfp\"] = y\n",
        "x[\"pre\"] = pre\n",
        "x[\"pre-bfp\"] = (pre - x[\"bfp\"] )\n",
        "\n",
        "x.to_csv(\"252.csv\")"
      ],
      "execution_count": null,
      "outputs": []
    },
    {
      "cell_type": "code",
      "metadata": {
        "colab": {
          "base_uri": "https://localhost:8080/"
        },
        "id": "12YXLzGajc5V",
        "outputId": "6a8de164-8ff1-49bf-9171-8347e89c0e6f"
      },
      "source": [
        "test_row = pd.DataFrame(tx, columns=tx.keys())\n",
        "# 將要預測的每個值做轉換,需要用當初訓練時用的lamda\n",
        "for i in realamda.keys():\n",
        "  test_row[i]= boxcox1p(test_row[i],realamda[i])\n",
        "print(test_row)\n",
        "\n",
        "\n",
        "tx_norm2 = scaler.transform(test_row)\n",
        "pre = model.predict(tx_norm2)\n",
        "pre = inv_boxcox1p(pre, lamda)\n",
        "\n",
        "print(pre)\n",
        "print(ty[\"bfp\"])\n",
        "\n",
        "from sklearn.metrics import mean_absolute_error,r2_score,mean_squared_error\n",
        "print(\"mean_absolute_error:\",mean_absolute_error(pre, ty[\"bfp\"]))\n",
        "print(\"r2_score:\",r2_score(pre, ty[\"bfp\"]))\n",
        "for i in realamda.keys():\n",
        "  tx[i]= inv_boxcox1p(tx[i],realamda[i])\n",
        "tx[\"bfp\"] = ty[\"bfp\"]\n",
        "tx[\"pre\"] = pre\n",
        "tx[\"pre-bfp\"] = (pre - tx[\"bfp\"] )\n",
        "print(tx)\n",
        "\n",
        "\n",
        "tx.to_csv(\"252_7.csv\")\n",
        "\n",
        "\n",
        "\n"
      ],
      "execution_count": null,
      "outputs": [
        {
          "output_type": "stream",
          "text": [
            "           age    height    weight     waist     chest      hips       bmi\n",
            "404  11.294238  2.181404  3.774785  1.579717  0.875317  0.629858  1.102203\n",
            "405   9.941476  2.180623  3.535912  1.565033  0.874470  0.629762  1.081795\n",
            "406  10.494348  2.188866  3.699875  1.571857  0.875021  0.629827  1.087596\n",
            "407   9.658508  2.190991  4.107854  1.596870  0.876260  0.629971  1.117755\n",
            "408  11.294238  2.187422  3.869628  1.584045  0.875586  0.629886  1.103786\n",
            "410  11.294238  2.185954  3.868539  1.584045  0.875830  0.629886  1.105137\n",
            "414  11.031273  2.182945  3.808502  1.578801  0.875521  0.629858  1.103367\n",
            "417   9.941476  2.182945  4.058547  1.585669  0.876081  0.629951  1.120990\n",
            "418  11.294238  2.193067  3.858669  1.580615  0.875386  0.629869  1.097024\n",
            "419   9.941476  2.177838  3.575091  1.563177  0.874515  0.629800  1.088818\n",
            "[16.2232993   6.61000692  8.23403706 27.19824274 17.63613102 17.32860205\n",
            " 14.16943955 18.13602743 13.34152267  5.4637648 ]\n",
            "404    22.6\n",
            "405    11.9\n",
            "406    14.3\n",
            "407    26.1\n",
            "408    21.1\n",
            "410    21.9\n",
            "414    21.2\n",
            "417    32.0\n",
            "418    17.2\n",
            "419     9.2\n",
            "Name: bfp, dtype: float64\n",
            "mean_absolute_error: 5.53554119401306\n",
            "r2_score: -0.0794591334410284\n",
            "      age  height  weight  waist  ...        bmi   bfp        pre    pre-bfp\n",
            "404  29.0   166.0    64.8   82.0  ...  23.515750  22.6  16.223299  -6.376701\n",
            "405  24.0   165.0    48.1   68.0  ...  17.667585  11.9   6.610007  -5.289993\n",
            "406  26.0   176.0    59.0   74.0  ...  19.047004  14.3   8.234037  -6.065963\n",
            "407  23.0   179.0    98.7  105.0  ...  30.804282  26.1  27.198243   1.098243\n",
            "408  29.0   174.0    73.0   87.0  ...  24.111507  21.1  17.636131  -3.463869\n",
            "410  29.0   172.0    72.9   87.0  ...  24.641698  21.9  17.328602  -4.571398\n",
            "414  28.0   168.0    67.6   81.0  ...  23.951247  21.2  14.169440  -7.030560\n",
            "417  24.0   168.0    92.7   89.0  ...  32.844388  32.0  18.136027 -13.863973\n",
            "418  29.0   182.0    72.0   83.0  ...  21.736505  17.2  13.341523  -3.858477\n",
            "419  24.0   161.5    50.5   66.5  ...  19.361827   9.2   5.463765  -3.736235\n",
            "\n",
            "[10 rows x 10 columns]\n"
          ],
          "name": "stdout"
        }
      ]
    }
  ]
}